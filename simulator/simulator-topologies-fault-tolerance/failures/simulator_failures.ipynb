{
 "cells": [
  {
   "cell_type": "code",
   "execution_count": 1,
   "metadata": {
    "id": "jesmZWwW-xHG"
   },
   "outputs": [],
   "source": [
    "import numpy as np\n",
    "import matplotlib.pyplot as plt\n",
    "import networkx as nx\n",
    "from failures import run_failures_no_recovery, run_failures\n",
    "\n",
    "import sys\n",
    "sys.path.append('..') \n",
    "from utils import create_mixing_matrix, load_data, run, consensus"
   ]
  },
  {
   "cell_type": "markdown",
   "metadata": {
    "id": "eLlexgBb96lA"
   },
   "source": [
    "### Base case with grid topology"
   ]
  },
  {
   "cell_type": "code",
   "execution_count": 2,
   "metadata": {
    "colab": {
     "base_uri": "https://localhost:8080/",
     "height": 0,
     "referenced_widgets": [
      "c3a6ae694e434eb9a7056a6e4190c235",
      "397ad3ca8c3e4be5bfcf7e686526b908",
      "315f9ee34d7e4dd18850e6ef22832998",
      "eb706f17a64b41dea87eed47f0369cb7",
      "a1dda719ba1d4aefaded46fe77b8b5c5",
      "4aba29a9bd8c4adabb987aa2b6459493",
      "f4dace55b6944fd5b7968c47a9cbec41",
      "f9d5d1579c42410f8df5e5fc92a11cfd",
      "687648f3135343d0a4405c3c2bf356f7",
      "b1b3584e222645af9b0993d036a58ca9",
      "0d042fbba9f74088be2b573eb225d029",
      "5abe539f942b4d28a00874d62a8d9cc7",
      "b5cc68f5f3bb4b4a95c08fb453ef26f4",
      "a3ba77f83a394e89b1529adb72fb5028",
      "a0eeb8d0dac24f2c86764d4825c9e67c",
      "dc03e917a3fd49e69032a1b06db0f94b",
      "bcf82088cfc04bbf90deec17b46c2932",
      "dfd4a14d5026464898f2f001dcd21c12",
      "c5d2457c6b894fd69af4b5da213e8fa8",
      "8123ff8766db4b8fa372bd4346c7bc03",
      "e48dc44fb6034d1e8e9f3f928c111925",
      "ce0c1850d4654fd198e3d115899a41c6",
      "98a149e6051c457fa324058e16e7c627",
      "cba384b80fa6490394308bbbaf8a5e14",
      "52a8d4d1a43546598852295bb3892440",
      "2aeba731b168414d930d23fb6d34579f",
      "77c5425642874ab0a32748c4ca73f83a",
      "10db760ea12146e4b5f019b9fa0e63dd",
      "5e691c171fc8401993a1adffc3a975d4",
      "3552c42c84e24e0f920eb1051aaf3d77",
      "e5ff26fc28a4452393cbfe752dda074c",
      "29747a91da3b44c781ae45af69cd1e13"
     ]
    },
    "id": "4YLdEDw7qXVF",
    "outputId": "82ad41c9-59e8-41ce-f482-06239e436bed"
   },
   "outputs": [
    {
     "name": "stdout",
     "output_type": "stream",
     "text": [
      "Downloading http://yann.lecun.com/exdb/mnist/train-images-idx3-ubyte.gz to ./data/MNIST/raw/train-images-idx3-ubyte.gz\n"
     ]
    },
    {
     "data": {
      "application/vnd.jupyter.widget-view+json": {
       "model_id": "c3a6ae694e434eb9a7056a6e4190c235",
       "version_major": 2,
       "version_minor": 0
      },
      "text/plain": [
       "HBox(children=(FloatProgress(value=1.0, bar_style='info', max=1.0), HTML(value='')))"
      ]
     },
     "metadata": {
      "tags": []
     },
     "output_type": "display_data"
    },
    {
     "name": "stdout",
     "output_type": "stream",
     "text": [
      "Extracting ./data/MNIST/raw/train-images-idx3-ubyte.gz to ./data/MNIST/raw\n",
      "Downloading http://yann.lecun.com/exdb/mnist/train-labels-idx1-ubyte.gz to ./data/MNIST/raw/train-labels-idx1-ubyte.gz\n"
     ]
    },
    {
     "data": {
      "application/vnd.jupyter.widget-view+json": {
       "model_id": "687648f3135343d0a4405c3c2bf356f7",
       "version_major": 2,
       "version_minor": 0
      },
      "text/plain": [
       "HBox(children=(FloatProgress(value=1.0, bar_style='info', max=1.0), HTML(value='')))"
      ]
     },
     "metadata": {
      "tags": []
     },
     "output_type": "display_data"
    },
    {
     "name": "stdout",
     "output_type": "stream",
     "text": [
      "Extracting ./data/MNIST/raw/train-labels-idx1-ubyte.gz to ./data/MNIST/raw\n",
      "Downloading http://yann.lecun.com/exdb/mnist/t10k-images-idx3-ubyte.gz to ./data/MNIST/raw/t10k-images-idx3-ubyte.gz\n"
     ]
    },
    {
     "data": {
      "application/vnd.jupyter.widget-view+json": {
       "model_id": "bcf82088cfc04bbf90deec17b46c2932",
       "version_major": 2,
       "version_minor": 0
      },
      "text/plain": [
       "HBox(children=(FloatProgress(value=1.0, bar_style='info', max=1.0), HTML(value='')))"
      ]
     },
     "metadata": {
      "tags": []
     },
     "output_type": "display_data"
    },
    {
     "name": "stdout",
     "output_type": "stream",
     "text": [
      "Extracting ./data/MNIST/raw/t10k-images-idx3-ubyte.gz to ./data/MNIST/raw\n",
      "Downloading http://yann.lecun.com/exdb/mnist/t10k-labels-idx1-ubyte.gz to ./data/MNIST/raw/t10k-labels-idx1-ubyte.gz\n"
     ]
    },
    {
     "data": {
      "application/vnd.jupyter.widget-view+json": {
       "model_id": "52a8d4d1a43546598852295bb3892440",
       "version_major": 2,
       "version_minor": 0
      },
      "text/plain": [
       "HBox(children=(FloatProgress(value=1.0, bar_style='info', max=1.0), HTML(value='')))"
      ]
     },
     "metadata": {
      "tags": []
     },
     "output_type": "display_data"
    },
    {
     "name": "stdout",
     "output_type": "stream",
     "text": [
      "Extracting ./data/MNIST/raw/t10k-labels-idx1-ubyte.gz to ./data/MNIST/raw\n",
      "Processing...\n",
      "\n",
      "\n",
      "\n",
      "Done!\n"
     ]
    },
    {
     "name": "stderr",
     "output_type": "stream",
     "text": [
      "/usr/local/lib/python3.6/dist-packages/torchvision/datasets/mnist.py:480: UserWarning: The given NumPy array is not writeable, and PyTorch does not support non-writeable tensors. This means you can write to the underlying (supposedly non-writeable) NumPy array using the tensor. You may want to copy the array to protect its data or make it writeable before converting it to a tensor. This type of warning will be suppressed for the rest of this program. (Triggered internally at  /pytorch/torch/csrc/utils/tensor_numpy.cpp:141.)\n",
      "  return torch.from_numpy(parsed.astype(m[2], copy=False)).view(*s)\n"
     ]
    },
    {
     "name": "stdout",
     "output_type": "stream",
     "text": [
      "0-th round\n",
      "lr 0.1 | average train loss 2.28 | test loss 2.27 | test acc: 0.397\n",
      "1-th round\n",
      "lr 0.1 | average train loss 2.08 | test loss 2.01 | test acc: 0.664\n",
      "2-th round\n",
      "lr 0.1 | average train loss 1.24 | test loss 0.9 | test acc: 0.796\n",
      "3-th round\n",
      "lr 0.1 | average train loss 0.767 | test loss 0.561 | test acc: 0.843\n",
      "4-th round\n",
      "lr 0.1 | average train loss 0.624 | test loss 0.423 | test acc: 0.888\n",
      "5-th round\n",
      "lr 0.1 | average train loss 0.523 | test loss 0.345 | test acc: 0.906\n",
      "6-th round\n",
      "lr 0.1 | average train loss 0.404 | test loss 0.295 | test acc: 0.917\n",
      "7-th round\n",
      "lr 0.1 | average train loss 0.381 | test loss 0.26 | test acc: 0.925\n",
      "8-th round\n",
      "lr 0.1 | average train loss 0.339 | test loss 0.235 | test acc: 0.931\n",
      "9-th round\n",
      "lr 0.1 | average train loss 0.293 | test loss 0.211 | test acc: 0.937\n",
      "[0.021258, 0.019693, 0.020301, 0.021281, 0.022063, 0.021516, 0.021444, 0.021429, 0.020031, 0.021164, 0.019955, 0.01707, 0.017746, 0.020175, 0.020793, 0.020127, 0.021129, 0.020143, 0.019258, 0.01854, 0.019794, 0.019601, 0.018446, 0.019127, 0.019163, 0.019516, 0.019825, 0.017595, 0.018926, 0.018086, 0.01927, 0.019522, 0.018344, 0.017576, 0.017088, 0.017363, 0.018351, 0.017766, 0.019887, 0.018409, 0.019762, 0.019052, 0.018082, 0.017804, 0.017375, 0.018123, 0.019327, 0.018999, 0.020458, 0.01891, 0.020568, 0.020056, 0.018331, 0.018995, 0.019496, 0.019245, 0.018213, 0.018336, 0.01943, 0.018386, 0.020751, 0.020157, 0.017782, 0.019214, 0.019376, 0.018874, 0.019039, 0.019915, 0.018622, 0.018548, 0.020541, 0.018378, 0.017806, 0.018389, 0.020509, 0.018377, 0.018684, 0.020424, 0.020448, 0.019901, 0.019071, 0.017435, 0.017298, 0.020082, 0.022518, 0.019195, 0.018549, 0.019836, 0.01966, 0.019758, 0.018228, 0.016207, 0.017754, 0.018334, 0.018411, 0.018436, 0.018634, 0.017908, 0.017765, 0.018438]\n"
     ]
    },
    {
     "data": {
      "image/png": "[encoded data removed]",
      "text/plain": [
       "<Figure size 432x288 with 1 Axes>"
      ]
     },
     "metadata": {
      "needs_background": "light",
      "tags": []
     },
     "output_type": "display_data"
    }
   ],
   "source": [
    "# IID case: all the clients have images of all the classes\n",
    "# Grid graph topology: each client is connected to exactly 4 neighbours\n",
    "\n",
    "# Hyperparameters\n",
    "\n",
    "num_clients = 100\n",
    "num_rounds = 10\n",
    "epochs = 1\n",
    "batch_size = 32\n",
    "\n",
    "# Communication matrix\n",
    "\n",
    "comm_matrix = create_mixing_matrix('grid', num_clients)\n",
    "\n",
    "# Creating decentralized datasets\n",
    "\n",
    "train_loader, test_loader = load_data(batch_size, num_clients)\n",
    "\n",
    "# Instantiate models and optimizers and run decentralized training\n",
    "\n",
    "global_model, client_models, accs = run(train_loader, test_loader, comm_matrix, num_rounds, epochs, num_clients)\n",
    "\n",
    "cons = consensus(global_model, client_models)\n",
    "print(cons)\n",
    "\n",
    "axes = plt.gca()\n",
    "axes.set_ylim([0,1])\n",
    "plt.plot(range(num_rounds), accs)\n",
    "plt.show()"
   ]
  },
  {
   "cell_type": "markdown",
   "metadata": {
    "id": "7sMN0Avh-PW1"
   },
   "source": [
    "### Failure simulation with no correction (no recovery)\n",
    "\n"
   ]
  },
  {
   "cell_type": "code",
   "execution_count": 3,
   "metadata": {
    "colab": {
     "base_uri": "https://localhost:8080/",
     "height": 0
    },
    "id": "RCwISCMAbxMR",
    "outputId": "4dd34024-0e20-480e-b9c8-5a57666c7fd1"
   },
   "outputs": [
    {
     "name": "stdout",
     "output_type": "stream",
     "text": [
      "normal round\n",
      "0-th round\n",
      "lr 0.1 | average train loss 2.26 | test loss 2.26 | test acc: 0.359\n",
      "normal round\n",
      "1-th round\n",
      "lr 0.1 | average train loss 1.78 | test loss 1.59 | test acc: 0.716\n",
      "normal round\n",
      "2-th round\n",
      "lr 0.1 | average train loss 1.08 | test loss 0.757 | test acc: 0.821\n",
      "normal round\n",
      "3-th round\n",
      "lr 0.1 | average train loss 0.826 | test loss 0.536 | test acc: 0.856\n",
      "normal round\n",
      "4-th round\n",
      "lr 0.1 | average train loss 0.631 | test loss 0.416 | test acc: 0.889\n",
      "failure round\n",
      "5-th round\n",
      "lr 0.1 | average train loss 0.464 | test loss 0.338 | test acc: 0.907\n",
      "failure round\n",
      "6-th round\n",
      "lr 0.1 | average train loss 0.417 | test loss 0.289 | test acc: 0.919\n",
      "failure round\n",
      "7-th round\n",
      "lr 0.1 | average train loss 0.376 | test loss 0.256 | test acc: 0.927\n",
      "failure round\n",
      "8-th round\n",
      "lr 0.1 | average train loss 0.342 | test loss 0.23 | test acc: 0.933\n",
      "failure round\n",
      "9-th round\n",
      "lr 0.1 | average train loss 0.293 | test loss 0.209 | test acc: 0.938\n",
      "[0.024898, 0.021456, 0.022636, 0.026581, 0.045808, 0.025835, 0.021543, 0.0229, 0.025033, 0.022692, 0.02322, 0.019801, 0.021729, 0.024525, 0.036244, 0.025187, 0.020677, 0.021172, 0.025934, 0.021035, 0.02196, 0.019859, 0.020772, 0.021882, 0.021953, 0.021605, 0.020035, 0.019892, 0.021079, 0.019453, 0.021184, 0.020012, 0.019257, 0.018189, 0.018747, 0.019879, 0.019646, 0.019442, 0.018629, 0.017001, 0.020763, 0.020024, 0.020948, 0.02007, 0.021023, 0.025228, 0.02116, 0.019695, 0.017777, 0.017613, 0.021322, 0.020918, 0.021236, 0.022282, 0.020946, 0.021362, 0.020698, 0.020896, 0.01968, 0.019027, 0.021521, 0.01956, 0.020411, 0.02375, 0.020506, 0.023173, 0.020533, 0.019828, 0.02141, 0.019411, 0.020794, 0.02089, 0.021208, 0.027379, 0.021867, 0.028059, 0.024888, 0.02665, 0.023243, 0.018623, 0.021494, 0.021977, 0.023635, 0.028374, 0.02623, 0.023719, 0.020502, 0.022225, 0.018798, 0.017734, 0.021952, 0.019784, 0.020331, 0.02023, 0.020405, 0.018908, 0.019219, 0.023188, 0.019807, 0.01998]\n"
     ]
    },
    {
     "data": {
      "image/png": "[encoded data removed]",
      "text/plain": [
       "<Figure size 432x288 with 1 Axes>"
      ]
     },
     "metadata": {
      "needs_background": "light",
      "tags": []
     },
     "output_type": "display_data"
    }
   ],
   "source": [
    "# IID case: all the clients have images of all the classes\n",
    "# Ring graph topology: each client is connected to two neighbours exactly\n",
    "\n",
    "# Hyperparameters\n",
    "\n",
    "num_clients = 100\n",
    "num_rounds = 10\n",
    "epochs = 1\n",
    "batch_size = 32\n",
    "num_failures = 10\n",
    "failure_round = 5\n",
    "\n",
    "# Communication matrix\n",
    "\n",
    "comm_matrix = create_mixing_matrix('grid', num_clients)\n",
    "\n",
    "# Creating decentralized datasets\n",
    "\n",
    "train_loader, test_loader = load_data(batch_size, num_clients)\n",
    "\n",
    "# Instantiate models and optimizers and run decentralized training\n",
    "\n",
    "global_model, client_models, accs1 = run_failures_no_recovery(train_loader, test_loader, comm_matrix, num_rounds,\n",
    "                                                             epochs, num_clients, failure_round, num_failures, 'none')\n",
    "\n",
    "cons = consensus(global_model, client_models)\n",
    "print(cons)\n",
    "\n",
    "axes = plt.gca()\n",
    "axes.set_ylim([0,1])\n",
    "plt.plot(range(num_rounds), accs1)\n",
    "plt.show()"
   ]
  },
  {
   "cell_type": "code",
   "execution_count": 4,
   "metadata": {
    "colab": {
     "base_uri": "https://localhost:8080/",
     "height": 0
    },
    "id": "PLOJ1TdRbxMS",
    "outputId": "bdedc6d3-b894-4f9f-90c2-081d503b60d1"
   },
   "outputs": [
    {
     "name": "stdout",
     "output_type": "stream",
     "text": [
      "normal round\n",
      "0-th round\n",
      "lr 0.1 | average train loss 2.26 | test loss 2.25 | test acc: 0.409\n",
      "normal round\n",
      "1-th round\n",
      "lr 0.1 | average train loss 1.76 | test loss 1.51 | test acc: 0.691\n",
      "normal round\n",
      "2-th round\n",
      "lr 0.1 | average train loss 1.12 | test loss 0.798 | test acc: 0.813\n",
      "normal round\n",
      "3-th round\n",
      "lr 0.1 | average train loss 0.82 | test loss 0.55 | test acc: 0.851\n",
      "normal round\n",
      "4-th round\n",
      "lr 0.1 | average train loss 0.592 | test loss 0.419 | test acc: 0.884\n",
      "failure round\n",
      "5-th round\n",
      "lr 0.1 | average train loss 0.541 | test loss 0.354 | test acc: 0.904\n",
      "failure round\n",
      "6-th round\n",
      "lr 0.1 | average train loss 0.444 | test loss 0.298 | test acc: 0.918\n",
      "failure round\n",
      "7-th round\n",
      "lr 0.1 | average train loss 0.393 | test loss 0.262 | test acc: 0.925\n",
      "failure round\n",
      "8-th round\n",
      "lr 0.1 | average train loss 0.32 | test loss 0.235 | test acc: 0.931\n",
      "failure round\n",
      "9-th round\n",
      "lr 0.1 | average train loss 0.335 | test loss 0.219 | test acc: 0.935\n",
      "[0.032082, 0.023752, 0.02708, 0.023196, 0.022748, 0.022083, 0.028182, 0.026985, 0.022255, 0.022589, 0.037327, 0.021736, 0.026174, 0.022743, 0.023569, 0.029664, 0.031256, 0.025056, 0.0233, 0.023824, 0.031554, 0.027455, 0.029879, 0.037004, 0.028715, 0.034922, 0.024077, 0.021129, 0.022193, 0.022901, 0.0244, 0.022137, 0.026726, 0.028961, 0.027351, 0.035991, 0.03103, 0.024363, 0.022028, 0.020574, 0.022221, 0.022606, 0.022844, 0.029055, 0.022301, 0.027733, 0.025297, 0.021417, 0.02155, 0.021339, 0.024718, 0.026549, 0.021933, 0.02673, 0.020499, 0.023564, 0.026066, 0.019856, 0.022281, 0.023256, 0.03643, 0.025899, 0.023357, 0.02599, 0.023406, 0.022747, 0.023354, 0.024415, 0.02804, 0.024437, 0.027172, 0.021634, 0.021392, 0.02169, 0.019541, 0.020208, 0.021872, 0.028763, 0.024153, 0.019871, 0.025191, 0.021764, 0.021872, 0.021742, 0.017703, 0.01863, 0.022223, 0.027317, 0.024331, 0.020595, 0.03041, 0.026794, 0.02574, 0.023588, 0.020306, 0.018206, 0.026013, 0.031606, 0.025553, 0.023898]\n"
     ]
    },
    {
     "data": {
      "image/png": "[encoded data removed]",
      "text/plain": [
       "<Figure size 432x288 with 1 Axes>"
      ]
     },
     "metadata": {
      "needs_background": "light",
      "tags": []
     },
     "output_type": "display_data"
    }
   ],
   "source": [
    "# IID case: all the clients have images of all the classes\n",
    "# Ring graph topology: each client is connected to two neighbours exactly\n",
    "\n",
    "# Hyperparameters\n",
    "\n",
    "num_clients = 100\n",
    "num_rounds = 10\n",
    "epochs = 1\n",
    "batch_size = 32\n",
    "num_failures = 25\n",
    "failure_round = 5\n",
    "\n",
    "# Communication matrix\n",
    "\n",
    "comm_matrix = create_mixing_matrix('grid', num_clients)\n",
    "\n",
    "# Creating decentralized datasets\n",
    "\n",
    "train_loader, test_loader = load_data(batch_size, num_clients)\n",
    "\n",
    "# Instantiate models and optimizers and run decentralized training\n",
    "\n",
    "global_model, client_models, accs2 = run_failures_no_recovery(train_loader, test_loader, comm_matrix, num_rounds,\n",
    "                                                             epochs, num_clients, failure_round, num_failures, 'none')\n",
    "\n",
    "cons = consensus(global_model, client_models)\n",
    "print(cons)\n",
    "\n",
    "axes = plt.gca()\n",
    "axes.set_ylim([0,1])\n",
    "plt.plot(range(num_rounds), accs2)\n",
    "plt.show()"
   ]
  },
  {
   "cell_type": "code",
   "execution_count": 5,
   "metadata": {
    "colab": {
     "base_uri": "https://localhost:8080/",
     "height": 0
    },
    "id": "6Anuz4B0bxMS",
    "outputId": "19f243cb-a784-4f7b-dc39-2bfdf6330af3"
   },
   "outputs": [
    {
     "name": "stdout",
     "output_type": "stream",
     "text": [
      "normal round\n",
      "0-th round\n",
      "lr 0.1 | average train loss 2.28 | test loss 2.27 | test acc: 0.285\n",
      "normal round\n",
      "1-th round\n",
      "lr 0.1 | average train loss 1.96 | test loss 1.84 | test acc: 0.676\n",
      "normal round\n",
      "2-th round\n",
      "lr 0.1 | average train loss 1.29 | test loss 0.901 | test acc: 0.790\n",
      "normal round\n",
      "3-th round\n",
      "lr 0.1 | average train loss 0.846 | test loss 0.562 | test acc: 0.852\n",
      "normal round\n",
      "4-th round\n",
      "lr 0.1 | average train loss 0.624 | test loss 0.415 | test acc: 0.889\n",
      "failure round\n",
      "5-th round\n",
      "lr 0.1 | average train loss 0.484 | test loss 0.329 | test acc: 0.911\n",
      "failure round\n",
      "6-th round\n",
      "lr 0.1 | average train loss 0.439 | test loss 0.288 | test acc: 0.920\n",
      "failure round\n",
      "7-th round\n",
      "lr 0.1 | average train loss 0.373 | test loss 0.251 | test acc: 0.927\n",
      "failure round\n",
      "8-th round\n",
      "lr 0.1 | average train loss 0.323 | test loss 0.228 | test acc: 0.933\n",
      "failure round\n",
      "9-th round\n",
      "lr 0.1 | average train loss 0.276 | test loss 0.208 | test acc: 0.939\n",
      "[0.033417, 0.040885, 0.031118, 0.041309, 0.052298, 0.048794, 0.043755, 0.033948, 0.026777, 0.025087, 0.025076, 0.025273, 0.026821, 0.03379, 0.043006, 0.046128, 0.056058, 0.039359, 0.031006, 0.026422, 0.024084, 0.023679, 0.030092, 0.036924, 0.058448, 0.060194, 0.080811, 0.070768, 0.033434, 0.023719, 0.030405, 0.027942, 0.062239, 0.087796, 0.060077, 0.053185, 0.045807, 0.046958, 0.033733, 0.039736, 0.03062, 0.029456, 0.121985, 0.086611, 0.043909, 0.041264, 0.038836, 0.049004, 0.034891, 0.032082, 0.029639, 0.025128, 0.031838, 0.032889, 0.030742, 0.042811, 0.033336, 0.027792, 0.02406, 0.025971, 0.033967, 0.02755, 0.029366, 0.028796, 0.029208, 0.043329, 0.045473, 0.028413, 0.022924, 0.026894, 0.040891, 0.054581, 0.037405, 0.02839, 0.028249, 0.841647, 0.064125, 0.029749, 0.02357, 0.027722, 0.036602, 0.044888, 0.039411, 0.025892, 0.032761, 0.056333, 0.044159, 0.028093, 0.023024, 0.022256, 0.031431, 0.038018, 0.029838, 0.029012, 0.04042, 0.035497, 0.029484, 0.025767, 0.021517, 0.019609]\n"
     ]
    },
    {
     "data": {
      "image/png": "[encoded data removed]",
      "text/plain": [
       "<Figure size 432x288 with 1 Axes>"
      ]
     },
     "metadata": {
      "needs_background": "light",
      "tags": []
     },
     "output_type": "display_data"
    }
   ],
   "source": [
    "# IID case: all the clients have images of all the classes\n",
    "# Ring graph topology: each client is connected to two neighbours exactly\n",
    "\n",
    "# Hyperparameters\n",
    "\n",
    "num_clients = 100\n",
    "num_rounds = 10\n",
    "epochs = 1\n",
    "batch_size = 32\n",
    "num_failures = 50\n",
    "failure_round = 5\n",
    "\n",
    "# Communication matrix\n",
    "\n",
    "comm_matrix = create_mixing_matrix('grid', num_clients)\n",
    "\n",
    "# Creating decentralized datasets\n",
    "\n",
    "train_loader, test_loader = load_data(batch_size, num_clients)\n",
    "\n",
    "# Instantiate models and optimizers and run decentralized training\n",
    "\n",
    "global_model, client_models, accs3 = run_failures_no_recovery(train_loader, test_loader, comm_matrix, num_rounds,\n",
    "                                                             epochs, num_clients, failure_round, num_failures, 'none')\n",
    "\n",
    "cons = consensus(global_model, client_models)\n",
    "print(cons)\n",
    "\n",
    "axes = plt.gca()\n",
    "axes.set_ylim([0,1])\n",
    "plt.plot(range(num_rounds), accs3)\n",
    "plt.show()"
   ]
  },
  {
   "cell_type": "code",
   "execution_count": 6,
   "metadata": {
    "colab": {
     "base_uri": "https://localhost:8080/",
     "height": 0
    },
    "id": "Tsw6o-tpbxMS",
    "outputId": "93ab20f3-c73a-4dec-a3af-c93c27de37d3"
   },
   "outputs": [
    {
     "name": "stdout",
     "output_type": "stream",
     "text": [
      "normal round\n",
      "0-th round\n",
      "lr 0.1 | average train loss 2.28 | test loss 2.28 | test acc: 0.217\n",
      "normal round\n",
      "1-th round\n",
      "lr 0.1 | average train loss 2.13 | test loss 2.08 | test acc: 0.567\n",
      "normal round\n",
      "2-th round\n",
      "lr 0.1 | average train loss 1.41 | test loss 1.05 | test acc: 0.786\n",
      "normal round\n",
      "3-th round\n",
      "lr 0.1 | average train loss 0.914 | test loss 0.613 | test acc: 0.847\n",
      "normal round\n",
      "4-th round\n",
      "lr 0.1 | average train loss 0.657 | test loss 0.451 | test acc: 0.884\n",
      "failure round\n",
      "5-th round\n",
      "lr 0.1 | average train loss 0.495 | test loss 0.36 | test acc: 0.903\n",
      "failure round\n",
      "6-th round\n",
      "lr 0.1 | average train loss 0.418 | test loss 0.31 | test acc: 0.914\n",
      "failure round\n",
      "7-th round\n",
      "lr 0.1 | average train loss 0.355 | test loss 0.271 | test acc: 0.923\n",
      "failure round\n",
      "8-th round\n",
      "lr 0.1 | average train loss 0.33 | test loss 0.249 | test acc: 0.928\n",
      "failure round\n",
      "9-th round\n",
      "lr 0.1 | average train loss 0.291 | test loss 0.229 | test acc: 0.931\n",
      "[0.068124, 0.06954, 0.091359, 0.063792, 0.055948, 0.578145, 0.581126, 0.513889, 0.041164, 0.045977, 0.066226, 0.089652, 0.112, 0.084938, 0.048661, 0.043734, 0.055182, 0.064899, 0.052609, 0.053074, 0.063954, 0.058805, 0.045639, 0.041116, 0.043103, 0.035947, 0.045065, 0.053527, 0.446106, 0.118117, 0.054424, 0.07891, 0.040894, 0.037003, 0.036645, 0.040823, 0.061927, 0.455253, 0.089643, 0.082483, 0.042246, 0.092997, 0.055108, 0.484714, 0.047344, 0.076188, 0.060059, 0.056859, 0.077029, 0.052197, 0.040378, 0.047237, 0.051342, 0.468623, 0.057205, 0.057678, 0.051336, 0.049973, 0.07258, 0.041835, 0.053405, 0.450509, 0.413601, 0.087073, 0.070822, 0.116684, 0.078101, 0.05631, 0.093571, 0.044921, 0.063597, 0.15215, 0.128993, 0.100895, 0.056726, 0.085812, 0.079233, 0.056981, 0.055858, 0.043648, 0.069465, 0.093535, 0.097478, 0.064831, 0.054913, 0.083996, 0.109868, 0.050293, 0.042385, 0.461062, 0.069325, 0.086524, 0.120745, 0.05977, 0.076603, 0.469631, 0.236603, 0.241826, 0.040465, 0.060044]\n"
     ]
    },
    {
     "data": {
      "image/png": "[encoded data removed]",
      "text/plain": [
       "<Figure size 432x288 with 1 Axes>"
      ]
     },
     "metadata": {
      "needs_background": "light",
      "tags": []
     },
     "output_type": "display_data"
    }
   ],
   "source": [
    "# IID case: all the clients have images of all the classes\n",
    "# Ring graph topology: each client is connected to two neighbours exactly\n",
    "\n",
    "# Hyperparameters\n",
    "\n",
    "num_clients = 100\n",
    "num_rounds = 10\n",
    "epochs = 1\n",
    "batch_size = 32\n",
    "num_failures = 100\n",
    "failure_round = 5\n",
    "\n",
    "# Communication matrix\n",
    "\n",
    "comm_matrix = create_mixing_matrix('grid', num_clients)\n",
    "\n",
    "# Creating decentralized datasets\n",
    "\n",
    "train_loader, test_loader = load_data(batch_size, num_clients)\n",
    "\n",
    "# Instantiate models and optimizers and run decentralized training\n",
    "\n",
    "global_model, client_models, accs4 = run_failures_no_recovery(train_loader, test_loader, comm_matrix, num_rounds,\n",
    "                                                             epochs, num_clients, failure_round, num_failures, 'none')\n",
    "\n",
    "cons = consensus(global_model, client_models)\n",
    "print(cons)\n",
    "\n",
    "axes = plt.gca()\n",
    "axes.set_ylim([0,1])\n",
    "plt.plot(range(num_rounds), accs4)\n",
    "plt.show()"
   ]
  },
  {
   "cell_type": "code",
   "execution_count": 7,
   "metadata": {
    "colab": {
     "base_uri": "https://localhost:8080/",
     "height": 0
    },
    "id": "vWZKJr_ubxMS",
    "outputId": "1171a433-088e-4832-c4d9-81c3653bbaa3"
   },
   "outputs": [
    {
     "name": "stdout",
     "output_type": "stream",
     "text": [
      "normal round\n",
      "0-th round\n",
      "lr 0.1 | average train loss 2.28 | test loss 2.27 | test acc: 0.265\n",
      "normal round\n",
      "1-th round\n",
      "lr 0.1 | average train loss 2.04 | test loss 1.97 | test acc: 0.685\n",
      "normal round\n",
      "2-th round\n",
      "lr 0.1 | average train loss 1.29 | test loss 0.988 | test acc: 0.776\n",
      "normal round\n",
      "3-th round\n",
      "lr 0.1 | average train loss 0.824 | test loss 0.64 | test acc: 0.821\n",
      "normal round\n",
      "4-th round\n",
      "lr 0.1 | average train loss 0.659 | test loss 0.49 | test acc: 0.864\n",
      "failure round\n",
      "5-th round\n",
      "lr 0.1 | average train loss 0.505 | test loss 0.403 | test acc: 0.889\n",
      "failure round\n",
      "6-th round\n",
      "lr 0.1 | average train loss 0.37 | test loss 0.352 | test acc: 0.900\n",
      "failure round\n",
      "7-th round\n",
      "lr 0.1 | average train loss 0.307 | test loss 0.323 | test acc: 0.907\n",
      "failure round\n",
      "8-th round\n",
      "lr 0.1 | average train loss 0.249 | test loss 0.299 | test acc: 0.912\n",
      "failure round\n",
      "9-th round\n",
      "lr 0.1 | average train loss 0.164 | test loss 0.287 | test acc: 0.915\n",
      "[0.761079, 0.446707, 0.435173, 0.418806, 0.48722, 0.457973, 0.568578, 0.4438, 0.444475, 0.487191, 0.414488, 0.436862, 0.456041, 0.403013, 0.443002, 0.477041, 0.487051, 0.493049, 0.415358, 0.418503, 0.465893, 0.568336, 0.447995, 0.444784, 0.425023, 0.444288, 0.368401, 0.429706, 0.484591, 0.41306, 0.423535, 0.67251, 0.421025, 0.536271, 0.441563, 0.478603, 0.438367, 0.467505, 0.413115, 0.492145, 0.432172, 0.484129, 0.418777, 0.413336, 0.461264, 0.445769, 0.470606, 0.432848, 0.415318, 0.412974, 0.515482, 0.501628, 0.434246, 0.509404, 0.469621, 0.392144, 0.414692, 0.460219, 0.428108, 0.460621, 0.46793, 0.457767, 0.443022, 0.423456, 0.500322, 0.387434, 0.421333, 0.437098, 0.551021, 0.419434, 0.418636, 0.430579, 0.42806, 0.477283, 0.455856, 0.423773, 0.454653, 0.438434, 0.494923, 0.548781, 0.457933, 0.446138, 0.418339, 0.41002, 0.399509, 0.477297, 0.409128, 0.469568, 0.61239, 0.473927, 0.500799, 0.463742, 0.441151, 0.406547, 0.499674, 0.438306, 0.409073, 0.453623, 0.438526, 0.432522]\n"
     ]
    },
    {
     "data": {
      "image/png": "[encoded data removed]",
      "text/plain": [
       "<Figure size 432x288 with 1 Axes>"
      ]
     },
     "metadata": {
      "needs_background": "light",
      "tags": []
     },
     "output_type": "display_data"
    }
   ],
   "source": [
    "# IID case: all the clients have images of all the classes\n",
    "# Ring graph topology: each client is connected to two neighbours exactly\n",
    "\n",
    "# Hyperparameters\n",
    "\n",
    "num_clients = 100\n",
    "num_rounds = 10\n",
    "epochs = 1\n",
    "batch_size = 32\n",
    "num_failures = 200\n",
    "failure_round = 5\n",
    "\n",
    "# Communication matrix\n",
    "\n",
    "comm_matrix = create_mixing_matrix('grid', num_clients)\n",
    "\n",
    "# Creating decentralized datasets\n",
    "\n",
    "train_loader, test_loader = load_data(batch_size, num_clients)\n",
    "\n",
    "# Instantiate models and optimizers and run decentralized training\n",
    "\n",
    "global_model, client_models, accs5 = run_failures_no_recovery(train_loader, test_loader, comm_matrix, num_rounds,\n",
    "                                                             epochs, num_clients, failure_round, num_failures, 'none')\n",
    "\n",
    "cons = consensus(global_model, client_models)\n",
    "print(cons)\n",
    "\n",
    "axes = plt.gca()\n",
    "axes.set_ylim([0,1])\n",
    "plt.plot(range(num_rounds), accs5)\n",
    "plt.show()"
   ]
  },
  {
   "cell_type": "code",
   "execution_count": 8,
   "metadata": {
    "colab": {
     "base_uri": "https://localhost:8080/",
     "height": 0
    },
    "id": "CSLdCmzObxMT",
    "outputId": "df3b4f37-8d92-4f86-9c7c-cd4b553b2e82"
   },
   "outputs": [
    {
     "data": {
      "image/png": "[encoded data removed]",
      "text/plain": [
       "<Figure size 864x648 with 1 Axes>"
      ]
     },
     "metadata": {
      "needs_background": "light",
      "tags": []
     },
     "output_type": "display_data"
    }
   ],
   "source": [
    "fig, ax = plt.subplots(1, figsize=(12, 9))\n",
    "ax.set_ylim([0, 1])\n",
    "x = np.array(range(10))\n",
    "ax.plot(x, accs, color=\"blue\", label=\"no failure\")\n",
    "ax.plot(x, accs1, color=\"green\", label=\"10 failures\")\n",
    "ax.plot(x, accs2, color=\"purple\", label=\"25 failures\")\n",
    "ax.plot(x, accs3, color=\"yellow\", label=\"50 failures\")\n",
    "ax.plot(x, accs4, color=\"orange\", label=\"100 failures\")\n",
    "ax.plot(x, accs5, color=\"red\", label=\"200 failures\")\n",
    "\n",
    "# Add a legend, and position it on the lower right (with no box)\n",
    "plt.legend(loc=\"lower right\", title=\"Number of failures\")\n",
    "plt.title(\"Accuracy curve depending on number of failures without correction\")\n",
    "plt.xlabel(\"Round\")\n",
    "plt.ylabel(\"Accuracy\")\n",
    "plt.show()"
   ]
  },
  {
   "cell_type": "markdown",
   "metadata": {
    "id": "yA_UUqIO_Smm"
   },
   "source": [
    "### Failure simulation with local correction (no recovery)"
   ]
  },
  {
   "cell_type": "code",
   "execution_count": 9,
   "metadata": {
    "colab": {
     "base_uri": "https://localhost:8080/",
     "height": 0
    },
    "id": "djAwSyoL9RG9",
    "outputId": "ddf8c2bd-3ceb-4417-f4a0-cd027ff6c1b6"
   },
   "outputs": [
    {
     "name": "stdout",
     "output_type": "stream",
     "text": [
      "normal round\n",
      "0-th round\n",
      "lr 0.1 | average train loss 2.28 | test loss 2.28 | test acc: 0.336\n",
      "normal round\n",
      "1-th round\n",
      "lr 0.1 | average train loss 2.19 | test loss 2.17 | test acc: 0.470\n",
      "normal round\n",
      "2-th round\n",
      "lr 0.1 | average train loss 1.51 | test loss 1.14 | test acc: 0.748\n",
      "normal round\n",
      "3-th round\n",
      "lr 0.1 | average train loss 0.972 | test loss 0.669 | test acc: 0.823\n",
      "normal round\n",
      "4-th round\n",
      "lr 0.1 | average train loss 0.741 | test loss 0.478 | test acc: 0.872\n",
      "failure round\n",
      "5-th round\n",
      "lr 0.1 | average train loss 0.575 | test loss 0.378 | test acc: 0.897\n",
      "failure round\n",
      "6-th round\n",
      "lr 0.1 | average train loss 0.484 | test loss 0.321 | test acc: 0.911\n",
      "failure round\n",
      "7-th round\n",
      "lr 0.1 | average train loss 0.401 | test loss 0.28 | test acc: 0.919\n",
      "failure round\n",
      "8-th round\n",
      "lr 0.1 | average train loss 0.388 | test loss 0.25 | test acc: 0.927\n",
      "failure round\n",
      "9-th round\n",
      "lr 0.1 | average train loss 0.331 | test loss 0.227 | test acc: 0.932\n",
      "[0.026611, 0.023148, 0.025256, 0.021833, 0.019817, 0.020193, 0.019733, 0.020366, 0.020566, 0.019324, 0.019803, 0.01864, 0.029968, 0.019826, 0.027874, 0.030879, 0.019328, 0.018253, 0.018642, 0.016746, 0.019108, 0.018444, 0.028634, 0.017179, 0.017318, 0.018625, 0.019182, 0.02072, 0.019149, 0.017089, 0.01814, 0.019844, 0.019286, 0.018341, 0.017407, 0.017248, 0.018677, 0.030193, 0.020664, 0.016034, 0.018288, 0.017683, 0.018616, 0.019243, 0.017229, 0.017908, 0.019637, 0.031829, 0.020639, 0.016774, 0.021082, 0.018822, 0.019214, 0.017626, 0.018332, 0.019535, 0.02119, 0.032324, 0.028913, 0.019475, 0.030276, 0.030116, 0.021152, 0.018146, 0.019592, 0.019361, 0.01998, 0.023238, 0.020393, 0.022192, 0.027923, 0.020538, 0.020573, 0.020053, 0.019588, 0.018218, 0.018767, 0.031798, 0.029216, 0.058946, 0.021342, 0.020478, 0.032356, 0.022384, 0.016693, 0.016256, 0.017979, 0.030208, 0.020143, 0.020423, 0.034173, 0.030951, 0.034653, 0.021072, 0.015507, 0.015899, 0.016675, 0.019743, 0.018825, 0.018979]\n"
     ]
    },
    {
     "data": {
      "image/png": "[encoded data removed]",
      "text/plain": [
       "<Figure size 432x288 with 1 Axes>"
      ]
     },
     "metadata": {
      "needs_background": "light",
      "tags": []
     },
     "output_type": "display_data"
    }
   ],
   "source": [
    "# IID case: all the clients have images of all the classes\n",
    "# Ring graph topology: each client is connected to two neighbours exactly\n",
    "\n",
    "# Hyperparameters\n",
    "\n",
    "num_clients = 100\n",
    "num_rounds = 10\n",
    "epochs = 1\n",
    "batch_size = 32\n",
    "num_failures = 10\n",
    "failure_round = 5\n",
    "\n",
    "# Communication matrix\n",
    "\n",
    "comm_matrix = create_mixing_matrix('grid', num_clients)\n",
    "\n",
    "# Creating decentralized datasets\n",
    "\n",
    "train_loader, test_loader = load_data(batch_size, num_clients)\n",
    "\n",
    "# Instantiate models and optimizers and run decentralized training\n",
    "\n",
    "global_model, client_models, accs1 = run_failures_no_recovery(train_loader, test_loader, comm_matrix, num_rounds,\n",
    "                                                             epochs, num_clients, failure_round, num_failures, 'local')\n",
    "\n",
    "cons = consensus(global_model, client_models)\n",
    "print(cons)\n",
    "\n",
    "axes = plt.gca()\n",
    "axes.set_ylim([0,1])\n",
    "plt.plot(range(num_rounds), accs1)\n",
    "plt.show()"
   ]
  },
  {
   "cell_type": "code",
   "execution_count": 10,
   "metadata": {
    "colab": {
     "base_uri": "https://localhost:8080/",
     "height": 0
    },
    "id": "DVlN45dB9RG_",
    "outputId": "85667420-94cb-456b-dbf0-a2932a7da7b3"
   },
   "outputs": [
    {
     "name": "stdout",
     "output_type": "stream",
     "text": [
      "normal round\n",
      "0-th round\n",
      "lr 0.1 | average train loss 2.25 | test loss 2.24 | test acc: 0.341\n",
      "normal round\n",
      "1-th round\n",
      "lr 0.1 | average train loss 1.74 | test loss 1.39 | test acc: 0.756\n",
      "normal round\n",
      "2-th round\n",
      "lr 0.1 | average train loss 1.03 | test loss 0.723 | test acc: 0.819\n",
      "normal round\n",
      "3-th round\n",
      "lr 0.1 | average train loss 0.785 | test loss 0.521 | test acc: 0.864\n",
      "normal round\n",
      "4-th round\n",
      "lr 0.1 | average train loss 0.582 | test loss 0.397 | test acc: 0.891\n",
      "failure round\n",
      "5-th round\n",
      "lr 0.1 | average train loss 0.547 | test loss 0.332 | test acc: 0.912\n",
      "failure round\n",
      "6-th round\n",
      "lr 0.1 | average train loss 0.44 | test loss 0.293 | test acc: 0.917\n",
      "failure round\n",
      "7-th round\n",
      "lr 0.1 | average train loss 0.365 | test loss 0.256 | test acc: 0.927\n",
      "failure round\n",
      "8-th round\n",
      "lr 0.1 | average train loss 0.333 | test loss 0.232 | test acc: 0.933\n",
      "failure round\n",
      "9-th round\n",
      "lr 0.1 | average train loss 0.271 | test loss 0.211 | test acc: 0.936\n",
      "[0.040598, 0.025374, 0.032844, 0.026293, 0.031826, 0.062754, 0.067545, 0.027209, 0.025979, 0.035378, 0.034497, 0.023495, 0.034263, 0.023639, 0.036965, 0.029019, 0.04578, 0.029913, 0.027329, 0.024347, 0.026834, 0.030569, 0.025724, 0.022179, 0.033704, 0.028666, 0.060353, 0.037259, 0.03435, 0.023492, 0.036798, 0.066132, 0.042822, 0.022543, 0.024692, 0.026004, 0.026917, 0.034059, 0.072452, 0.032574, 0.025793, 0.02685, 0.035847, 0.021802, 0.020937, 0.033561, 0.023787, 0.022921, 0.028761, 0.035224, 0.032589, 0.021922, 0.0227, 0.021582, 0.020093, 0.035761, 0.025821, 0.033758, 0.041224, 0.072662, 0.026841, 0.022237, 0.021869, 0.022643, 0.023045, 0.034975, 0.0331, 0.024229, 0.032448, 0.039355, 0.02328, 0.021075, 0.020915, 0.03123, 0.02062, 0.022878, 0.025103, 0.023396, 0.022303, 0.020377, 0.028715, 0.021533, 0.022453, 0.059094, 0.024224, 0.029174, 0.041699, 0.052736, 0.035157, 0.026127, 0.048842, 0.033419, 0.023152, 0.030831, 0.022566, 0.041065, 0.043369, 0.023026, 0.022988, 0.036776]\n"
     ]
    },
    {
     "data": {
      "image/png": "[encoded data removed]",
      "text/plain": [
       "<Figure size 432x288 with 1 Axes>"
      ]
     },
     "metadata": {
      "needs_background": "light",
      "tags": []
     },
     "output_type": "display_data"
    }
   ],
   "source": [
    "# IID case: all the clients have images of all the classes\n",
    "# Ring graph topology: each client is connected to two neighbours exactly\n",
    "\n",
    "# Hyperparameters\n",
    "\n",
    "num_clients = 100\n",
    "num_rounds = 10\n",
    "epochs = 1\n",
    "batch_size = 32\n",
    "num_failures = 25\n",
    "failure_round = 5\n",
    "\n",
    "# Communication matrix\n",
    "\n",
    "comm_matrix = create_mixing_matrix('grid', num_clients)\n",
    "\n",
    "# Creating decentralized datasets\n",
    "\n",
    "train_loader, test_loader = load_data(batch_size, num_clients)\n",
    "\n",
    "# Instantiate models and optimizers and run decentralized training\n",
    "\n",
    "global_model, client_models, accs2 = run_failures_no_recovery(train_loader, test_loader, comm_matrix, num_rounds,\n",
    "                                                             epochs, num_clients, failure_round, num_failures, 'local')\n",
    "\n",
    "cons = consensus(global_model, client_models)\n",
    "print(cons)\n",
    "\n",
    "axes = plt.gca()\n",
    "axes.set_ylim([0,1])\n",
    "plt.plot(range(num_rounds), accs2)\n",
    "plt.show()"
   ]
  },
  {
   "cell_type": "code",
   "execution_count": 11,
   "metadata": {
    "colab": {
     "base_uri": "https://localhost:8080/",
     "height": 0
    },
    "id": "gZ9AylT39RG_",
    "outputId": "8270b904-85f8-452f-f76b-5ad8836b2378"
   },
   "outputs": [
    {
     "name": "stdout",
     "output_type": "stream",
     "text": [
      "normal round\n",
      "0-th round\n",
      "lr 0.1 | average train loss 2.27 | test loss 2.26 | test acc: 0.460\n",
      "normal round\n",
      "1-th round\n",
      "lr 0.1 | average train loss 1.9 | test loss 1.8 | test acc: 0.657\n",
      "normal round\n",
      "2-th round\n",
      "lr 0.1 | average train loss 1.19 | test loss 0.859 | test acc: 0.783\n",
      "normal round\n",
      "3-th round\n",
      "lr 0.1 | average train loss 0.827 | test loss 0.58 | test acc: 0.845\n",
      "normal round\n",
      "4-th round\n",
      "lr 0.1 | average train loss 0.651 | test loss 0.439 | test acc: 0.884\n",
      "failure round\n",
      "5-th round\n",
      "lr 0.1 | average train loss 0.507 | test loss 0.354 | test acc: 0.902\n",
      "failure round\n",
      "6-th round\n",
      "lr 0.1 | average train loss 0.445 | test loss 0.303 | test acc: 0.916\n",
      "failure round\n",
      "7-th round\n",
      "lr 0.1 | average train loss 0.34 | test loss 0.269 | test acc: 0.923\n",
      "failure round\n",
      "8-th round\n",
      "lr 0.1 | average train loss 0.319 | test loss 0.243 | test acc: 0.928\n",
      "failure round\n",
      "9-th round\n",
      "lr 0.1 | average train loss 0.28 | test loss 0.226 | test acc: 0.932\n",
      "[0.088198, 0.052702, 0.032011, 0.039115, 0.030803, 0.045106, 0.05277, 0.042424, 0.038975, 0.039194, 0.06098, 0.162426, 0.03986, 0.068943, 0.06515, 0.090236, 0.078009, 0.026605, 0.025343, 0.02795, 0.033558, 0.062188, 0.041874, 0.139436, 0.163195, 0.056153, 0.074793, 0.033277, 0.024304, 0.025508, 0.032832, 0.045612, 0.042669, 0.146505, 0.07411, 0.041747, 0.033185, 0.022836, 0.024174, 0.032892, 0.079027, 0.0514, 0.043887, 0.183694, 0.053577, 0.053971, 0.042309, 0.034524, 0.040993, 0.071176, 0.095337, 0.052493, 0.037627, 0.111287, 0.04418, 0.040165, 0.024497, 0.025116, 0.045423, 0.053647, 0.086125, 0.091556, 0.039869, 0.034504, 0.03495, 0.026775, 0.021454, 0.024439, 0.038011, 0.056044, 0.057442, 0.06602, 0.040476, 0.027066, 0.036204, 0.036648, 0.025225, 0.027466, 0.058925, 0.07172, 0.061709, 0.09474, 0.039153, 0.028247, 0.026015, 0.035902, 0.036098, 0.038174, 0.054643, 0.054394, 0.05778, 0.052242, 0.030632, 0.028792, 0.032222, 0.05077, 0.077655, 0.165327, 0.083116, 0.053776]\n"
     ]
    },
    {
     "data": {
      "image/png": "[encoded data removed]",
      "text/plain": [
       "<Figure size 432x288 with 1 Axes>"
      ]
     },
     "metadata": {
      "needs_background": "light",
      "tags": []
     },
     "output_type": "display_data"
    }
   ],
   "source": [
    "# IID case: all the clients have images of all the classes\n",
    "# Ring graph topology: each client is connected to two neighbours exactly\n",
    "\n",
    "# Hyperparameters\n",
    "\n",
    "num_clients = 100\n",
    "num_rounds = 10\n",
    "epochs = 1\n",
    "batch_size = 32\n",
    "num_failures = 50\n",
    "failure_round = 5\n",
    "\n",
    "# Communication matrix\n",
    "\n",
    "comm_matrix = create_mixing_matrix('grid', num_clients)\n",
    "\n",
    "# Creating decentralized datasets\n",
    "\n",
    "train_loader, test_loader = load_data(batch_size, num_clients)\n",
    "\n",
    "# Instantiate models and optimizers and run decentralized training\n",
    "\n",
    "global_model, client_models, accs3 = run_failures_no_recovery(train_loader, test_loader, comm_matrix, num_rounds,\n",
    "                                                             epochs, num_clients, failure_round, num_failures, 'local')\n",
    "\n",
    "cons = consensus(global_model, client_models)\n",
    "print(cons)\n",
    "\n",
    "axes = plt.gca()\n",
    "axes.set_ylim([0,1])\n",
    "plt.plot(range(num_rounds), accs3)\n",
    "plt.show()"
   ]
  },
  {
   "cell_type": "code",
   "execution_count": 12,
   "metadata": {
    "colab": {
     "base_uri": "https://localhost:8080/",
     "height": 0
    },
    "id": "VvOdxOPX9RG_",
    "outputId": "22fcbd46-0ff2-41af-ab0b-dd898d10fe2b"
   },
   "outputs": [
    {
     "name": "stdout",
     "output_type": "stream",
     "text": [
      "normal round\n",
      "0-th round\n",
      "lr 0.1 | average train loss 2.28 | test loss 2.28 | test acc: 0.196\n",
      "normal round\n",
      "1-th round\n",
      "lr 0.1 | average train loss 2.1 | test loss 2.06 | test acc: 0.631\n",
      "normal round\n",
      "2-th round\n",
      "lr 0.1 | average train loss 1.29 | test loss 0.973 | test acc: 0.770\n",
      "normal round\n",
      "3-th round\n",
      "lr 0.1 | average train loss 0.899 | test loss 0.609 | test acc: 0.836\n",
      "normal round\n",
      "4-th round\n",
      "lr 0.1 | average train loss 0.716 | test loss 0.465 | test acc: 0.873\n",
      "failure round\n",
      "5-th round\n",
      "lr 0.1 | average train loss 0.497 | test loss 0.379 | test acc: 0.894\n",
      "failure round\n",
      "6-th round\n",
      "lr 0.1 | average train loss 0.44 | test loss 0.331 | test acc: 0.906\n",
      "failure round\n",
      "7-th round\n",
      "lr 0.1 | average train loss 0.369 | test loss 0.291 | test acc: 0.916\n",
      "failure round\n",
      "8-th round\n",
      "lr 0.1 | average train loss 0.302 | test loss 0.266 | test acc: 0.921\n",
      "failure round\n",
      "9-th round\n",
      "lr 0.1 | average train loss 0.317 | test loss 0.246 | test acc: 0.926\n",
      "[0.17683, 0.082517, 0.051541, 0.089636, 0.077092, 0.083408, 0.097607, 0.182382, 0.423871, 0.115431, 0.088193, 0.097297, 0.065115, 0.081899, 0.042899, 0.068898, 0.164508, 0.452832, 0.086794, 0.077658, 0.101197, 0.087428, 0.049843, 0.053208, 0.040585, 0.048073, 0.070584, 0.080301, 0.091284, 0.091453, 0.07427, 0.076171, 0.041735, 0.052793, 0.073452, 0.186341, 0.183897, 0.170911, 0.365362, 0.053592, 0.072571, 0.079706, 0.043272, 0.058719, 0.149692, 0.125712, 0.155983, 0.198911, 0.086286, 0.050527, 0.03957, 0.111886, 0.19112, 0.154602, 0.474775, 0.109047, 0.158566, 0.098178, 0.05758, 0.036413, 0.045168, 0.159362, 0.14216, 0.107928, 0.17692, 0.133665, 0.211675, 0.210623, 0.418629, 0.069852, 0.049087, 0.103137, 0.38742, 0.172519, 0.126327, 0.10815, 0.208282, 0.173079, 0.073366, 0.053579, 0.075419, 0.155459, 0.184169, 0.111913, 0.062225, 0.097644, 0.151226, 0.072521, 0.052886, 0.055287, 0.120118, 0.429572, 0.080723, 0.064546, 0.046303, 0.046025, 0.048945, 0.081307, 0.137497, 0.193592]\n"
     ]
    },
    {
     "data": {
      "image/png": "[encoded data removed]",
      "text/plain": [
       "<Figure size 432x288 with 1 Axes>"
      ]
     },
     "metadata": {
      "needs_background": "light",
      "tags": []
     },
     "output_type": "display_data"
    }
   ],
   "source": [
    "# IID case: all the clients have images of all the classes\n",
    "# Ring graph topology: each client is connected to two neighbours exactly\n",
    "\n",
    "# Hyperparameters\n",
    "\n",
    "num_clients = 100\n",
    "num_rounds = 10\n",
    "epochs = 1\n",
    "batch_size = 32\n",
    "num_failures = 100\n",
    "failure_round = 5\n",
    "\n",
    "# Communication matrix\n",
    "\n",
    "comm_matrix = create_mixing_matrix('grid', num_clients)\n",
    "\n",
    "# Creating decentralized datasets\n",
    "\n",
    "train_loader, test_loader = load_data(batch_size, num_clients)\n",
    "\n",
    "# Instantiate models and optimizers and run decentralized training\n",
    "\n",
    "global_model, client_models, accs4 = run_failures_no_recovery(train_loader, test_loader, comm_matrix, num_rounds,\n",
    "                                                             epochs, num_clients, failure_round, num_failures, 'local')\n",
    "\n",
    "cons = consensus(global_model, client_models)\n",
    "print(cons)\n",
    "\n",
    "axes = plt.gca()\n",
    "axes.set_ylim([0,1])\n",
    "plt.plot(range(num_rounds), accs4)\n",
    "plt.show()"
   ]
  },
  {
   "cell_type": "code",
   "execution_count": 13,
   "metadata": {
    "colab": {
     "base_uri": "https://localhost:8080/",
     "height": 0
    },
    "id": "Wciiz1uH9RG_",
    "outputId": "31b7702f-7cbd-49ef-af48-beef4f3f5a6b"
   },
   "outputs": [
    {
     "name": "stdout",
     "output_type": "stream",
     "text": [
      "normal round\n",
      "0-th round\n",
      "lr 0.1 | average train loss 2.28 | test loss 2.28 | test acc: 0.271\n",
      "normal round\n",
      "1-th round\n",
      "lr 0.1 | average train loss 2.17 | test loss 2.15 | test acc: 0.472\n",
      "normal round\n",
      "2-th round\n",
      "lr 0.1 | average train loss 1.52 | test loss 1.16 | test acc: 0.768\n",
      "normal round\n",
      "3-th round\n",
      "lr 0.1 | average train loss 0.915 | test loss 0.659 | test acc: 0.842\n",
      "normal round\n",
      "4-th round\n",
      "lr 0.1 | average train loss 0.659 | test loss 0.483 | test acc: 0.874\n",
      "failure round\n",
      "5-th round\n",
      "lr 0.1 | average train loss 0.537 | test loss 0.424 | test acc: 0.885\n",
      "failure round\n",
      "6-th round\n",
      "lr 0.1 | average train loss 0.424 | test loss 0.354 | test acc: 0.903\n",
      "failure round\n",
      "7-th round\n",
      "lr 0.1 | average train loss 0.33 | test loss 0.317 | test acc: 0.911\n",
      "failure round\n",
      "8-th round\n",
      "lr 0.1 | average train loss 0.245 | test loss 0.293 | test acc: 0.916\n",
      "failure round\n",
      "9-th round\n",
      "lr 0.1 | average train loss 0.219 | test loss 0.28 | test acc: 0.918\n",
      "[0.462967, 0.629058, 0.371898, 0.385678, 0.406404, 0.386518, 0.497972, 0.414179, 0.394332, 0.425318, 0.378802, 0.408707, 0.395099, 0.442427, 0.444734, 0.395624, 0.419085, 0.438032, 0.454932, 0.406633, 0.410907, 0.462105, 0.36875, 0.396415, 0.423527, 0.450356, 0.426209, 0.39724, 0.488223, 0.379667, 0.506214, 0.40879, 0.47341, 0.425202, 0.422979, 0.39059, 0.437448, 0.391168, 0.478494, 0.426054, 0.458005, 0.448211, 0.415485, 0.447456, 0.36985, 0.414783, 0.379613, 0.413819, 0.383386, 0.547429, 0.430266, 0.369053, 0.40572, 0.444502, 0.472125, 0.387545, 0.391101, 0.42532, 0.401166, 0.443904, 0.370813, 0.50644, 0.462623, 0.461047, 0.404058, 0.393664, 0.461113, 0.415346, 0.401102, 0.576532, 0.38858, 0.477115, 0.426631, 0.54944, 0.394007, 0.420062, 0.400055, 0.376135, 0.386744, 0.403569, 0.406193, 0.427666, 0.418884, 0.393143, 0.38444, 0.444869, 0.418382, 0.40507, 0.414741, 0.373895, 0.411632, 0.389864, 0.446509, 0.325718, 0.380674, 0.447514, 0.470012, 0.4131, 0.400368, 0.401683]\n"
     ]
    },
    {
     "data": {
      "image/png": "[encoded data removed]",
      "text/plain": [
       "<Figure size 432x288 with 1 Axes>"
      ]
     },
     "metadata": {
      "needs_background": "light",
      "tags": []
     },
     "output_type": "display_data"
    }
   ],
   "source": [
    "# IID case: all the clients have images of all the classes\n",
    "# Ring graph topology: each client is connected to two neighbours exactly\n",
    "\n",
    "# Hyperparameters\n",
    "\n",
    "num_clients = 100\n",
    "num_rounds = 10\n",
    "epochs = 1\n",
    "batch_size = 32\n",
    "num_failures = 200\n",
    "failure_round = 5\n",
    "\n",
    "# Communication matrix\n",
    "\n",
    "comm_matrix = create_mixing_matrix('grid', num_clients)\n",
    "\n",
    "# Creating decentralized datasets\n",
    "\n",
    "train_loader, test_loader = load_data(batch_size, num_clients)\n",
    "\n",
    "# Instantiate models and optimizers and run decentralized training\n",
    "\n",
    "global_model, client_models, accs5 = run_failures_no_recovery(train_loader, test_loader, comm_matrix, num_rounds,\n",
    "                                                             epochs, num_clients, failure_round, num_failures, 'local')\n",
    "\n",
    "cons = consensus(global_model, client_models)\n",
    "print(cons)\n",
    "\n",
    "axes = plt.gca()\n",
    "axes.set_ylim([0,1])\n",
    "plt.plot(range(num_rounds), accs5)\n",
    "plt.show()"
   ]
  },
  {
   "cell_type": "code",
   "execution_count": 14,
   "metadata": {
    "colab": {
     "base_uri": "https://localhost:8080/",
     "height": 0
    },
    "id": "o4HuhWYs9RG_",
    "outputId": "a4505b05-9a96-4c0e-dac3-7fb1458e26b7"
   },
   "outputs": [
    {
     "data": {
      "image/png": "[encoded data removed]",
      "text/plain": [
       "<Figure size 864x648 with 1 Axes>"
      ]
     },
     "metadata": {
      "needs_background": "light",
      "tags": []
     },
     "output_type": "display_data"
    }
   ],
   "source": [
    "fig, ax = plt.subplots(1, figsize=(12, 9))\n",
    "ax.set_ylim([0, 1])\n",
    "x = np.array(range(10))\n",
    "ax.plot(x, accs, color=\"blue\", label=\"no failure\")\n",
    "ax.plot(x, accs1, color=\"green\", label=\"10 failures\")\n",
    "ax.plot(x, accs2, color=\"purple\", label=\"25 failures\")\n",
    "ax.plot(x, accs3, color=\"yellow\", label=\"50 failures\")\n",
    "ax.plot(x, accs4, color=\"orange\", label=\"100 failures\")\n",
    "ax.plot(x, accs5, color=\"red\", label=\"200 failures\")\n",
    "\n",
    "# Add a legend, and position it on the lower right (with no box)\n",
    "plt.legend(loc=\"lower right\", title=\"Number of failures\", frameon=False)\n",
    "plt.title(\"Accuracy curve depending on number of failures under local correction\")\n",
    "plt.xlabel(\"Round\")\n",
    "plt.ylabel(\"Accuracy\")\n",
    "plt.show()"
   ]
  },
  {
   "cell_type": "markdown",
   "metadata": {
    "id": "wOXhZxLm_kAI"
   },
   "source": [
    "### Failure simulation with global correction (no recovery)"
   ]
  },
  {
   "cell_type": "code",
   "execution_count": 15,
   "metadata": {
    "colab": {
     "base_uri": "https://localhost:8080/",
     "height": 827
    },
    "id": "u_30wblktPYW",
    "outputId": "b039bce4-cf2e-45f0-c3a2-56412109c20e"
   },
   "outputs": [
    {
     "name": "stdout",
     "output_type": "stream",
     "text": [
      "normal round\n",
      "0-th round\n",
      "lr 0.1 | average train loss 2.27 | test loss 2.27 | test acc: 0.288\n",
      "normal round\n",
      "1-th round\n",
      "lr 0.1 | average train loss 2.08 | test loss 2.03 | test acc: 0.573\n",
      "normal round\n",
      "2-th round\n",
      "lr 0.1 | average train loss 1.31 | test loss 0.974 | test acc: 0.779\n",
      "normal round\n",
      "3-th round\n",
      "lr 0.1 | average train loss 0.872 | test loss 0.613 | test acc: 0.833\n",
      "normal round\n",
      "4-th round\n",
      "lr 0.1 | average train loss 0.667 | test loss 0.453 | test acc: 0.877\n",
      "failure round\n",
      "5-th round\n",
      "lr 0.1 | average train loss 0.556 | test loss 0.363 | test acc: 0.901\n",
      "failure round\n",
      "6-th round\n",
      "lr 0.1 | average train loss 0.457 | test loss 0.303 | test acc: 0.914\n",
      "failure round\n",
      "7-th round\n",
      "lr 0.1 | average train loss 0.413 | test loss 0.269 | test acc: 0.924\n",
      "failure round\n",
      "8-th round\n",
      "lr 0.1 | average train loss 0.356 | test loss 0.24 | test acc: 0.929\n",
      "failure round\n",
      "9-th round\n",
      "lr 0.1 | average train loss 0.329 | test loss 0.218 | test acc: 0.936\n",
      "[0.031511, 0.02966, 0.022836, 0.019872, 0.020005, 0.021392, 0.020587, 0.021342, 0.020889, 0.024713, 0.022678, 0.020382, 0.019955, 0.020368, 0.018654, 0.022082, 0.020281, 0.018847, 0.01928, 0.021305, 0.023417, 0.021405, 0.020695, 0.022254, 0.018898, 0.020629, 0.020138, 0.017786, 0.019799, 0.020924, 0.022165, 0.023466, 0.023636, 0.047045, 0.028987, 0.025189, 0.021529, 0.018207, 0.019431, 0.01967, 0.020493, 0.024339, 0.021244, 0.026423, 0.021699, 0.021818, 0.021087, 0.017597, 0.018535, 0.018007, 0.020419, 0.023655, 0.019952, 0.02213, 0.020733, 0.023989, 0.020761, 0.02187, 0.019479, 0.016504, 0.024732, 0.020311, 0.019518, 0.02137, 0.019493, 0.022141, 0.020131, 0.021241, 0.018771, 0.01712, 0.025451, 0.018013, 0.018529, 0.019127, 0.018078, 0.020689, 0.02069, 0.020112, 0.019481, 0.019141, 0.026127, 0.019114, 0.019599, 0.017968, 0.020593, 0.021547, 0.021233, 0.02051, 0.021464, 0.024086, 0.030127, 0.024101, 0.019889, 0.017547, 0.020196, 0.020113, 0.024909, 0.023775, 0.024278, 0.025052]\n"
     ]
    },
    {
     "data": {
      "image/png": "[encoded data removed]",
      "text/plain": [
       "<Figure size 432x288 with 1 Axes>"
      ]
     },
     "metadata": {
      "needs_background": "light",
      "tags": []
     },
     "output_type": "display_data"
    }
   ],
   "source": [
    "# IID case: all the clients have images of all the classes\n",
    "# Ring graph topology: each client is connected to two neighbours exactly\n",
    "\n",
    "# Hyperparameters\n",
    "\n",
    "num_clients = 100\n",
    "num_rounds = 10\n",
    "epochs = 1\n",
    "batch_size = 32\n",
    "num_failures = 10\n",
    "failure_round = 5\n",
    "\n",
    "# Communication matrix\n",
    "\n",
    "comm_matrix = create_mixing_matrix('grid', num_clients)\n",
    "\n",
    "# Creating decentralized datasets\n",
    "\n",
    "train_loader, test_loader = load_data(batch_size, num_clients)\n",
    "\n",
    "# Instantiate models and optimizers and run decentralized training\n",
    "\n",
    "global_model, client_models, accs1 = run_failures_no_recovery(train_loader, test_loader, comm_matrix, num_rounds,\n",
    "                                                             epochs, num_clients, failure_round, num_failures, 'global')\n",
    "\n",
    "cons = consensus(global_model, client_models)\n",
    "print(cons)\n",
    "\n",
    "axes = plt.gca()\n",
    "axes.set_ylim([0,1])\n",
    "plt.plot(range(num_rounds), accs1)\n",
    "plt.show()"
   ]
  },
  {
   "cell_type": "code",
   "execution_count": 16,
   "metadata": {
    "colab": {
     "base_uri": "https://localhost:8080/",
     "height": 827
    },
    "id": "sz8zsyXmNeTz",
    "outputId": "e0e48d41-3850-47e4-b92e-7d2c42f55944"
   },
   "outputs": [
    {
     "name": "stdout",
     "output_type": "stream",
     "text": [
      "normal round\n",
      "0-th round\n",
      "lr 0.1 | average train loss 2.25 | test loss 2.24 | test acc: 0.509\n",
      "normal round\n",
      "1-th round\n",
      "lr 0.1 | average train loss 1.7 | test loss 1.41 | test acc: 0.780\n",
      "normal round\n",
      "2-th round\n",
      "lr 0.1 | average train loss 1.14 | test loss 0.753 | test acc: 0.816\n",
      "normal round\n",
      "3-th round\n",
      "lr 0.1 | average train loss 0.763 | test loss 0.516 | test acc: 0.859\n",
      "normal round\n",
      "4-th round\n",
      "lr 0.1 | average train loss 0.597 | test loss 0.398 | test acc: 0.893\n",
      "failure round\n",
      "5-th round\n",
      "lr 0.1 | average train loss 0.526 | test loss 0.326 | test acc: 0.912\n",
      "failure round\n",
      "6-th round\n",
      "lr 0.1 | average train loss 0.397 | test loss 0.284 | test acc: 0.921\n",
      "failure round\n",
      "7-th round\n",
      "lr 0.1 | average train loss 0.371 | test loss 0.25 | test acc: 0.928\n",
      "failure round\n",
      "8-th round\n",
      "lr 0.1 | average train loss 0.315 | test loss 0.227 | test acc: 0.934\n",
      "failure round\n",
      "9-th round\n",
      "lr 0.1 | average train loss 0.277 | test loss 0.208 | test acc: 0.940\n",
      "[0.030249, 0.024276, 0.022057, 0.022326, 0.024168, 0.030895, 0.03321, 0.028415, 0.028629, 0.033821, 0.034867, 0.032606, 0.025893, 0.023268, 0.02208, 0.025465, 0.02301, 0.025767, 0.025473, 0.031071, 0.030653, 0.043191, 0.028928, 0.030149, 0.026605, 0.025591, 0.023033, 0.02597, 0.020203, 0.02165, 0.024108, 0.025033, 0.021363, 0.026121, 0.025936, 0.034565, 0.022665, 0.024595, 0.019131, 0.019202, 0.024438, 0.021507, 0.019879, 0.022041, 0.028755, 0.046595, 0.025592, 0.022753, 0.021673, 0.024614, 0.025937, 0.025163, 0.020335, 0.019612, 0.030729, 0.030589, 0.024124, 0.023271, 0.020884, 0.020619, 0.025095, 0.022973, 0.021003, 0.020396, 0.034095, 0.028848, 0.024107, 0.025861, 0.021939, 0.023877, 0.026682, 0.020798, 0.018989, 0.019829, 0.02703, 0.028787, 0.021943, 0.023384, 0.019688, 0.022494, 0.041837, 0.022932, 0.018645, 0.01998, 0.022085, 0.021558, 0.020962, 0.02247, 0.021596, 0.028231, 0.031791, 0.026098, 0.021345, 0.019872, 0.022084, 0.02501, 0.029122, 0.024662, 0.021229, 0.026508]\n"
     ]
    },
    {
     "data": {
      "image/png": "[encoded data removed]",
      "text/plain": [
       "<Figure size 432x288 with 1 Axes>"
      ]
     },
     "metadata": {
      "needs_background": "light",
      "tags": []
     },
     "output_type": "display_data"
    }
   ],
   "source": [
    "# IID case: all the clients have images of all the classes\n",
    "# Ring graph topology: each client is connected to two neighbours exactly\n",
    "\n",
    "# Hyperparameters\n",
    "\n",
    "num_clients = 100\n",
    "num_rounds = 10\n",
    "epochs = 1\n",
    "batch_size = 32\n",
    "num_failures = 25\n",
    "failure_round = 5\n",
    "\n",
    "# Communication matrix\n",
    "\n",
    "comm_matrix = create_mixing_matrix('grid', num_clients)\n",
    "\n",
    "# Creating decentralized datasets\n",
    "\n",
    "train_loader, test_loader = load_data(batch_size, num_clients)\n",
    "\n",
    "# Instantiate models and optimizers and run decentralized training\n",
    "\n",
    "global_model, client_models, accs2 = run_failures_no_recovery(train_loader, test_loader, comm_matrix, num_rounds,\n",
    "                                                             epochs, num_clients, failure_round, num_failures, 'global')\n",
    "\n",
    "cons = consensus(global_model, client_models)\n",
    "print(cons)\n",
    "\n",
    "axes = plt.gca()\n",
    "axes.set_ylim([0,1])\n",
    "plt.plot(range(num_rounds), accs2)\n",
    "plt.show()"
   ]
  },
  {
   "cell_type": "code",
   "execution_count": 17,
   "metadata": {
    "colab": {
     "base_uri": "https://localhost:8080/",
     "height": 827
    },
    "id": "wzK-gUveNsuX",
    "outputId": "d4e1e7da-7b09-4968-d685-3e5e321facab"
   },
   "outputs": [
    {
     "name": "stdout",
     "output_type": "stream",
     "text": [
      "normal round\n",
      "0-th round\n",
      "lr 0.1 | average train loss 2.29 | test loss 2.28 | test acc: 0.153\n",
      "normal round\n",
      "1-th round\n",
      "lr 0.1 | average train loss 2.21 | test loss 2.19 | test acc: 0.571\n",
      "normal round\n",
      "2-th round\n",
      "lr 0.1 | average train loss 1.61 | test loss 1.29 | test acc: 0.728\n",
      "normal round\n",
      "3-th round\n",
      "lr 0.1 | average train loss 0.95 | test loss 0.69 | test acc: 0.827\n",
      "normal round\n",
      "4-th round\n",
      "lr 0.1 | average train loss 0.789 | test loss 0.484 | test acc: 0.876\n",
      "failure round\n",
      "5-th round\n",
      "lr 0.1 | average train loss 0.577 | test loss 0.388 | test acc: 0.895\n",
      "failure round\n",
      "6-th round\n",
      "lr 0.1 | average train loss 0.489 | test loss 0.325 | test acc: 0.911\n",
      "failure round\n",
      "7-th round\n",
      "lr 0.1 | average train loss 0.432 | test loss 0.284 | test acc: 0.921\n",
      "failure round\n",
      "8-th round\n",
      "lr 0.1 | average train loss 0.377 | test loss 0.255 | test acc: 0.928\n",
      "failure round\n",
      "9-th round\n",
      "lr 0.1 | average train loss 0.329 | test loss 0.234 | test acc: 0.932\n",
      "[0.025401, 0.022006, 0.029054, 0.030391, 0.053658, 0.034063, 0.023478, 0.023285, 0.024701, 0.026207, 0.025768, 0.023333, 0.031403, 0.023466, 0.038924, 0.042958, 0.031005, 0.029885, 0.031213, 0.039865, 0.024406, 0.023262, 0.031895, 0.024299, 0.042662, 0.117282, 0.039675, 0.046822, 0.036183, 0.03196, 0.028594, 0.026332, 0.034724, 0.032556, 0.03939, 0.080073, 0.042247, 0.037369, 0.038116, 0.037581, 0.038089, 0.03032, 0.031209, 0.02878, 0.036913, 0.040462, 0.040475, 0.040605, 0.044126, 0.040946, 0.038047, 0.02991, 0.028641, 0.027009, 0.033473, 0.036583, 0.039108, 0.060617, 0.046627, 0.035609, 0.04724, 0.077314, 0.038114, 0.049447, 0.073965, 0.06909, 0.117088, 0.092342, 0.113684, 0.033734, 0.031456, 0.027577, 0.023831, 0.037852, 0.049596, 0.041855, 0.041327, 0.080862, 0.046271, 0.027856, 0.02982, 0.02151, 0.022059, 0.034815, 0.048581, 0.036509, 0.030708, 0.03009, 0.026449, 0.023457, 0.026612, 0.020271, 0.024529, 0.029324, 0.049303, 0.030668, 0.028185, 0.028071, 0.023593, 0.023836]\n"
     ]
    },
    {
     "data": {
      "image/png": "[encoded data removed]",
      "text/plain": [
       "<Figure size 432x288 with 1 Axes>"
      ]
     },
     "metadata": {
      "needs_background": "light",
      "tags": []
     },
     "output_type": "display_data"
    }
   ],
   "source": [
    "# IID case: all the clients have images of all the classes\n",
    "# Ring graph topology: each client is connected to two neighbours exactly\n",
    "\n",
    "# Hyperparameters\n",
    "\n",
    "num_clients = 100\n",
    "num_rounds = 10\n",
    "epochs = 1\n",
    "batch_size = 32\n",
    "num_failures = 50\n",
    "failure_round = 5\n",
    "\n",
    "# Communication matrix\n",
    "\n",
    "comm_matrix = create_mixing_matrix('grid', num_clients)\n",
    "\n",
    "# Creating decentralized datasets\n",
    "\n",
    "train_loader, test_loader = load_data(batch_size, num_clients)\n",
    "\n",
    "# Instantiate models and optimizers and run decentralized training\n",
    "\n",
    "global_model, client_models, accs3 = run_failures_no_recovery(train_loader, test_loader, comm_matrix, num_rounds,\n",
    "                                                             epochs, num_clients, failure_round, num_failures, 'global')\n",
    "\n",
    "cons = consensus(global_model, client_models)\n",
    "print(cons)\n",
    "\n",
    "axes = plt.gca()\n",
    "axes.set_ylim([0,1])\n",
    "plt.plot(range(num_rounds), accs3)\n",
    "plt.show()"
   ]
  },
  {
   "cell_type": "code",
   "execution_count": 18,
   "metadata": {
    "colab": {
     "base_uri": "https://localhost:8080/",
     "height": 827
    },
    "id": "2dejhQACN_UN",
    "outputId": "92489454-1703-4cf6-b455-94fc74574cf9"
   },
   "outputs": [
    {
     "name": "stdout",
     "output_type": "stream",
     "text": [
      "normal round\n",
      "0-th round\n",
      "lr 0.1 | average train loss 2.29 | test loss 2.29 | test acc: 0.103\n",
      "normal round\n",
      "1-th round\n",
      "lr 0.1 | average train loss 2.26 | test loss 2.26 | test acc: 0.395\n",
      "normal round\n",
      "2-th round\n",
      "lr 0.1 | average train loss 2.01 | test loss 1.94 | test acc: 0.685\n",
      "normal round\n",
      "3-th round\n",
      "lr 0.1 | average train loss 1.19 | test loss 0.859 | test acc: 0.811\n",
      "normal round\n",
      "4-th round\n",
      "lr 0.1 | average train loss 0.853 | test loss 0.548 | test acc: 0.863\n",
      "failure round\n",
      "5-th round\n",
      "lr 0.1 | average train loss 0.654 | test loss 0.425 | test acc: 0.889\n",
      "failure round\n",
      "6-th round\n",
      "lr 0.1 | average train loss 0.547 | test loss 0.356 | test acc: 0.904\n",
      "failure round\n",
      "7-th round\n",
      "lr 0.1 | average train loss 0.415 | test loss 0.306 | test acc: 0.916\n",
      "failure round\n",
      "8-th round\n",
      "lr 0.1 | average train loss 0.351 | test loss 0.273 | test acc: 0.923\n",
      "failure round\n",
      "9-th round\n",
      "lr 0.1 | average train loss 0.345 | test loss 0.249 | test acc: 0.929\n",
      "[0.298962, 0.057052, 0.041361, 0.082621, 0.062631, 0.050136, 0.034649, 0.03859, 0.048962, 0.073808, 0.304469, 0.058086, 0.050925, 0.087522, 0.058223, 0.043944, 0.037659, 0.045423, 0.044072, 0.054292, 0.118562, 0.06188, 0.059031, 0.074863, 0.088148, 0.374638, 0.504322, 0.04619, 0.044894, 0.049911, 0.092624, 0.112684, 0.39494, 0.086854, 0.060649, 0.079517, 0.410281, 0.041955, 0.042079, 0.063168, 0.394239, 0.494813, 0.073697, 0.047427, 0.033684, 0.049682, 0.087978, 0.052404, 0.401937, 0.096764, 0.068785, 0.082217, 0.068461, 0.03768, 0.028776, 0.041848, 0.045729, 0.048272, 0.038345, 0.060263, 0.090301, 0.10633, 0.105226, 0.041849, 0.030838, 0.033338, 0.035924, 0.038301, 0.029067, 0.080357, 0.060802, 0.071877, 0.077898, 0.403147, 0.045294, 0.037077, 0.057751, 0.059451, 0.032914, 0.048159, 0.059364, 0.081428, 0.05138, 0.054139, 0.465754, 0.045103, 0.05751, 0.078552, 0.045151, 0.0467, 0.474915, 0.418059, 0.037225, 0.049119, 0.052328, 0.058561, 0.047638, 0.092809, 0.067822, 0.393128]\n"
     ]
    },
    {
     "data": {
      "image/png": "[encoded data removed]",
      "text/plain": [
       "<Figure size 432x288 with 1 Axes>"
      ]
     },
     "metadata": {
      "needs_background": "light",
      "tags": []
     },
     "output_type": "display_data"
    }
   ],
   "source": [
    "# IID case: all the clients have images of all the classes\n",
    "# Ring graph topology: each client is connected to two neighbours exactly\n",
    "\n",
    "# Hyperparameters\n",
    "\n",
    "num_clients = 100\n",
    "num_rounds = 10\n",
    "epochs = 1\n",
    "batch_size = 32\n",
    "num_failures = 100\n",
    "failure_round = 5\n",
    "\n",
    "# Communication matrix\n",
    "\n",
    "comm_matrix = create_mixing_matrix('grid', num_clients)\n",
    "\n",
    "# Creating decentralized datasets\n",
    "\n",
    "train_loader, test_loader = load_data(batch_size, num_clients)\n",
    "\n",
    "# Instantiate models and optimizers and run decentralized training\n",
    "\n",
    "global_model, client_models, accs4 = run_failures_no_recovery(train_loader, test_loader, comm_matrix, num_rounds,\n",
    "                                                             epochs, num_clients, failure_round, num_failures, 'global')\n",
    "\n",
    "cons = consensus(global_model, client_models)\n",
    "print(cons)\n",
    "\n",
    "axes = plt.gca()\n",
    "axes.set_ylim([0,1])\n",
    "plt.plot(range(num_rounds), accs4)\n",
    "plt.show()"
   ]
  },
  {
   "cell_type": "code",
   "execution_count": 19,
   "metadata": {
    "colab": {
     "base_uri": "https://localhost:8080/",
     "height": 827
    },
    "id": "f0R9l5XpOXI1",
    "outputId": "ecfdd1c9-2ced-4aa5-83f6-61c89bf42527"
   },
   "outputs": [
    {
     "name": "stdout",
     "output_type": "stream",
     "text": [
      "normal round\n",
      "0-th round\n",
      "lr 0.1 | average train loss 2.23 | test loss 2.21 | test acc: 0.453\n",
      "normal round\n",
      "1-th round\n",
      "lr 0.1 | average train loss 1.55 | test loss 1.25 | test acc: 0.771\n",
      "normal round\n",
      "2-th round\n",
      "lr 0.1 | average train loss 0.97 | test loss 0.706 | test acc: 0.838\n",
      "normal round\n",
      "3-th round\n",
      "lr 0.1 | average train loss 0.665 | test loss 0.513 | test acc: 0.870\n",
      "normal round\n",
      "4-th round\n",
      "lr 0.1 | average train loss 0.577 | test loss 0.423 | test acc: 0.889\n",
      "failure round\n",
      "5-th round\n",
      "lr 0.1 | average train loss 0.44 | test loss 0.358 | test acc: 0.902\n",
      "failure round\n",
      "6-th round\n",
      "lr 0.1 | average train loss 0.31 | test loss 0.319 | test acc: 0.910\n",
      "failure round\n",
      "7-th round\n",
      "lr 0.1 | average train loss 0.212 | test loss 0.293 | test acc: 0.915\n",
      "failure round\n",
      "8-th round\n",
      "lr 0.1 | average train loss 0.206 | test loss 0.28 | test acc: 0.919\n",
      "failure round\n",
      "9-th round\n",
      "lr 0.1 | average train loss 0.143 | test loss 0.273 | test acc: 0.922\n",
      "[0.480866, 0.594235, 0.575681, 0.453541, 0.551237, 0.525244, 0.46063, 0.510131, 0.529649, 0.487405, 0.538405, 0.480006, 0.445969, 0.507077, 0.456923, 0.543088, 0.442267, 0.470554, 0.522935, 0.487284, 0.514514, 0.504763, 0.478192, 0.497724, 0.525471, 0.525112, 0.501282, 0.449259, 0.525165, 0.516742, 0.567556, 0.50683, 0.446637, 0.544905, 0.492442, 0.493914, 0.452241, 0.670901, 0.576202, 0.518998, 0.527762, 0.445388, 0.561679, 0.418337, 0.509101, 0.473954, 0.465953, 0.493158, 0.906502, 0.499045, 0.550607, 0.522184, 0.468805, 0.455001, 0.505045, 0.463244, 0.460171, 0.492896, 0.535484, 0.507244, 0.438583, 0.58162, 0.477379, 0.450961, 0.489117, 0.414806, 0.445563, 0.500252, 0.553646, 0.539447, 0.517616, 0.490581, 0.593781, 0.524226, 0.485441, 0.534116, 0.529164, 0.466437, 0.4744, 0.463207, 0.476387, 0.54218, 0.492762, 0.525617, 0.579495, 0.482221, 0.449322, 0.466945, 0.527183, 0.486542, 0.505493, 0.465923, 0.456343, 0.53905, 0.514385, 0.453009, 0.542261, 0.63747, 0.582019, 0.477811]\n"
     ]
    },
    {
     "data": {
      "image/png": "[encoded data removed]",
      "text/plain": [
       "<Figure size 432x288 with 1 Axes>"
      ]
     },
     "metadata": {
      "needs_background": "light",
      "tags": []
     },
     "output_type": "display_data"
    }
   ],
   "source": [
    "# IID case: all the clients have images of all the classes\n",
    "# Ring graph topology: each client is connected to two neighbours exactly\n",
    "\n",
    "# Hyperparameters\n",
    "\n",
    "num_clients = 100\n",
    "num_rounds = 10\n",
    "epochs = 1\n",
    "batch_size = 32\n",
    "num_failures = 200\n",
    "failure_round = 5\n",
    "\n",
    "# Communication matrix\n",
    "\n",
    "comm_matrix = create_mixing_matrix('grid', num_clients)\n",
    "\n",
    "# Creating decentralized datasets\n",
    "\n",
    "train_loader, test_loader = load_data(batch_size, num_clients)\n",
    "\n",
    "# Instantiate models and optimizers and run decentralized training\n",
    "\n",
    "global_model, client_models, accs5 = run_failures_no_recovery(train_loader, test_loader, comm_matrix, num_rounds,\n",
    "                                                             epochs, num_clients, failure_round, num_failures, 'global')\n",
    "\n",
    "cons = consensus(global_model, client_models)\n",
    "print(cons)\n",
    "\n",
    "axes = plt.gca()\n",
    "axes.set_ylim([0,1])\n",
    "plt.plot(range(num_rounds), accs5)\n",
    "plt.show()"
   ]
  },
  {
   "cell_type": "code",
   "execution_count": 20,
   "metadata": {
    "colab": {
     "base_uri": "https://localhost:8080/",
     "height": 567
    },
    "id": "i4RmIk_ZOxaJ",
    "outputId": "34b31090-8d88-46cd-c5b0-6d2642043a36"
   },
   "outputs": [
    {
     "data": {
      "image/png": "[encoded data removed]",
      "text/plain": [
       "<Figure size 864x648 with 1 Axes>"
      ]
     },
     "metadata": {
      "needs_background": "light",
      "tags": []
     },
     "output_type": "display_data"
    }
   ],
   "source": [
    "fig, ax = plt.subplots(1, figsize=(12, 9))\n",
    "ax.set_ylim([0, 1])\n",
    "x = np.array(range(10))\n",
    "ax.plot(x, accs, color=\"blue\", label=\"no failure\")\n",
    "ax.plot(x, accs1, color=\"green\", label=\"10 failures\")\n",
    "ax.plot(x, accs2, color=\"purple\", label=\"25 failures\")\n",
    "ax.plot(x, accs3, color=\"yellow\", label=\"50 failures\")\n",
    "ax.plot(x, accs4, color=\"orange\", label=\"100 failures\")\n",
    "ax.plot(x, accs5, color=\"red\", label=\"200 failures\")\n",
    "\n",
    "# Add a legend, and position it on the lower right (with no box)\n",
    "plt.legend(loc=\"lower right\", title=\"Number of failures\", frameon=False)\n",
    "plt.title(\"Accuracy curve depending on number of failures under global correction\")\n",
    "plt.xlabel(\"Round\")\n",
    "plt.ylabel(\"Accuracy\")\n",
    "plt.show()"
   ]
  },
  {
   "cell_type": "markdown",
   "metadata": {
    "id": "p3SC4TDFTUKD"
   },
   "source": [
    "### Failure simulation with no correction (recovery)"
   ]
  },
  {
   "cell_type": "code",
   "execution_count": 21,
   "metadata": {
    "colab": {
     "base_uri": "https://localhost:8080/",
     "height": 827
    },
    "id": "0M-4gPygTUKD",
    "outputId": "4d88e690-1cfe-415d-afcf-5c51078bfc1d"
   },
   "outputs": [
    {
     "name": "stdout",
     "output_type": "stream",
     "text": [
      "failure round\n",
      "0-th round\n",
      "lr 0.1 | average train loss 2.28 | test loss 2.28 | test acc: 0.208\n",
      "failure round\n",
      "1-th round\n",
      "lr 0.1 | average train loss 2.13 | test loss 2.09 | test acc: 0.611\n",
      "normal round\n",
      "2-th round\n",
      "lr 0.1 | average train loss 1.32 | test loss 0.987 | test acc: 0.781\n",
      "normal round\n",
      "3-th round\n",
      "lr 0.1 | average train loss 0.887 | test loss 0.608 | test acc: 0.848\n",
      "failure round\n",
      "4-th round\n",
      "lr 0.1 | average train loss 0.679 | test loss 0.452 | test acc: 0.880\n",
      "failure round\n",
      "5-th round\n",
      "lr 0.1 | average train loss 0.569 | test loss 0.367 | test acc: 0.902\n",
      "failure round\n",
      "6-th round\n",
      "lr 0.1 | average train loss 0.485 | test loss 0.313 | test acc: 0.914\n",
      "normal round\n",
      "7-th round\n",
      "lr 0.1 | average train loss 0.394 | test loss 0.276 | test acc: 0.922\n",
      "normal round\n",
      "8-th round\n",
      "lr 0.1 | average train loss 0.362 | test loss 0.248 | test acc: 0.930\n",
      "normal round\n",
      "9-th round\n",
      "lr 0.1 | average train loss 0.303 | test loss 0.227 | test acc: 0.933\n",
      "[0.024767, 0.02257, 0.021259, 0.029705, 0.031201, 0.026222, 0.022866, 0.021223, 0.020326, 0.021072, 0.024479, 0.020307, 0.017845, 0.022083, 0.021942, 0.020273, 0.018978, 0.01777, 0.019394, 0.019948, 0.019297, 0.018441, 0.018649, 0.01901, 0.019096, 0.01892, 0.017968, 0.017503, 0.019025, 0.016493, 0.019183, 0.020538, 0.024173, 0.02281, 0.019747, 0.018455, 0.016978, 0.018183, 0.019502, 0.01632, 0.021454, 0.020769, 0.021513, 0.01792, 0.018523, 0.019473, 0.019, 0.020368, 0.01998, 0.0184, 0.03002, 0.026679, 0.020208, 0.019046, 0.02225, 0.022817, 0.021439, 0.01841, 0.019774, 0.021514, 0.020801, 0.020541, 0.019803, 0.022537, 0.026362, 0.024507, 0.01979, 0.018811, 0.019965, 0.018861, 0.021712, 0.020268, 0.019431, 0.021038, 0.020599, 0.018539, 0.019009, 0.019332, 0.018972, 0.017819, 0.023679, 0.019612, 0.019724, 0.022604, 0.02784, 0.023325, 0.020688, 0.019749, 0.020281, 0.017201, 0.025746, 0.018787, 0.018644, 0.019775, 0.024676, 0.021192, 0.019486, 0.018779, 0.021701, 0.01737]\n"
     ]
    },
    {
     "data": {
      "image/png": "[encoded data removed]",
      "text/plain": [
       "<Figure size 432x288 with 1 Axes>"
      ]
     },
     "metadata": {
      "needs_background": "light",
      "tags": []
     },
     "output_type": "display_data"
    }
   ],
   "source": [
    "# IID case: all the clients have images of all the classes\n",
    "# Ring graph topology: each client is connected to two neighbours exactly\n",
    "\n",
    "# Hyperparameters\n",
    "\n",
    "num_clients = 100\n",
    "num_rounds = 10\n",
    "epochs = 1\n",
    "batch_size = 32\n",
    "num_failures = 10\n",
    "failure_rounds = np.random.choice(range(num_rounds), size=5, replace=False)\n",
    "\n",
    "# Communication matrix\n",
    "\n",
    "comm_matrix = create_mixing_matrix('grid', num_clients)\n",
    "\n",
    "# Creating decentralized datasets\n",
    "\n",
    "train_loader, test_loader = load_data(batch_size, num_clients)\n",
    "\n",
    "# Instantiate models and optimizers and run decentralized training\n",
    "\n",
    "global_model, client_models, accs1 = run_failures(train_loader, test_loader, comm_matrix, num_rounds,\n",
    "                                                             epochs, num_clients, failure_rounds, num_failures, 'none')\n",
    "\n",
    "cons = consensus(global_model, client_models)\n",
    "print(cons)\n",
    "\n",
    "axes = plt.gca()\n",
    "axes.set_ylim([0,1])\n",
    "plt.plot(range(num_rounds), accs1)\n",
    "plt.show()"
   ]
  },
  {
   "cell_type": "code",
   "execution_count": 22,
   "metadata": {
    "colab": {
     "base_uri": "https://localhost:8080/",
     "height": 827
    },
    "id": "Bg-iDJpITUKE",
    "outputId": "90145e25-75cc-4fef-b004-8a1f9fbdc4ab"
   },
   "outputs": [
    {
     "name": "stdout",
     "output_type": "stream",
     "text": [
      "normal round\n",
      "0-th round\n",
      "lr 0.1 | average train loss 2.28 | test loss 2.28 | test acc: 0.267\n",
      "failure round\n",
      "1-th round\n",
      "lr 0.1 | average train loss 2.11 | test loss 2.05 | test acc: 0.601\n",
      "normal round\n",
      "2-th round\n",
      "lr 0.1 | average train loss 1.28 | test loss 0.95 | test acc: 0.781\n",
      "failure round\n",
      "3-th round\n",
      "lr 0.1 | average train loss 0.909 | test loss 0.641 | test acc: 0.818\n",
      "normal round\n",
      "4-th round\n",
      "lr 0.1 | average train loss 0.694 | test loss 0.456 | test acc: 0.878\n",
      "failure round\n",
      "5-th round\n",
      "lr 0.1 | average train loss 0.584 | test loss 0.371 | test acc: 0.896\n",
      "failure round\n",
      "6-th round\n",
      "lr 0.1 | average train loss 0.476 | test loss 0.319 | test acc: 0.907\n",
      "normal round\n",
      "7-th round\n",
      "lr 0.1 | average train loss 0.386 | test loss 0.277 | test acc: 0.920\n",
      "failure round\n",
      "8-th round\n",
      "lr 0.1 | average train loss 0.352 | test loss 0.248 | test acc: 0.927\n",
      "normal round\n",
      "9-th round\n",
      "lr 0.1 | average train loss 0.315 | test loss 0.229 | test acc: 0.931\n",
      "[0.025056, 0.023406, 0.025555, 0.036793, 0.041888, 0.029875, 0.032992, 0.034555, 0.025848, 0.02595, 0.02369, 0.023162, 0.021368, 0.027403, 0.028233, 0.02446, 0.02306, 0.025644, 0.023793, 0.025258, 0.028184, 0.028468, 0.02787, 0.026174, 0.026554, 0.022985, 0.025256, 0.039896, 0.028829, 0.025834, 0.028972, 0.02482, 0.022236, 0.022789, 0.03187, 0.022532, 0.023213, 0.031346, 0.033129, 0.029887, 0.024873, 0.024847, 0.023092, 0.024208, 0.028941, 0.020902, 0.02022, 0.023382, 0.026279, 0.022105, 0.023017, 0.022247, 0.018252, 0.019305, 0.021819, 0.022149, 0.026435, 0.024301, 0.027654, 0.021102, 0.021503, 0.024747, 0.019648, 0.018868, 0.019639, 0.021929, 0.025992, 0.034412, 0.027918, 0.02072, 0.0241, 0.021698, 0.020264, 0.020607, 0.019824, 0.019598, 0.023774, 0.025383, 0.022222, 0.021864, 0.027134, 0.020238, 0.022513, 0.023401, 0.020531, 0.020051, 0.037431, 0.030405, 0.023175, 0.023892, 0.029282, 0.019508, 0.022012, 0.024981, 0.024179, 0.021401, 0.035965, 0.035167, 0.025941, 0.033111]\n"
     ]
    },
    {
     "data": {
      "image/png": "[encoded data removed]",
      "text/plain": [
       "<Figure size 432x288 with 1 Axes>"
      ]
     },
     "metadata": {
      "needs_background": "light",
      "tags": []
     },
     "output_type": "display_data"
    }
   ],
   "source": [
    "# IID case: all the clients have images of all the classes\n",
    "# Ring graph topology: each client is connected to two neighbours exactly\n",
    "\n",
    "# Hyperparameters\n",
    "\n",
    "num_clients = 100\n",
    "num_rounds = 10\n",
    "epochs = 1\n",
    "batch_size = 32\n",
    "num_failures = 25\n",
    "failure_rounds = np.random.choice(range(num_rounds), size=5, replace=False)\n",
    "\n",
    "# Communication matrix\n",
    "\n",
    "comm_matrix = create_mixing_matrix('grid', num_clients)\n",
    "\n",
    "# Creating decentralized datasets\n",
    "\n",
    "train_loader, test_loader = load_data(batch_size, num_clients)\n",
    "\n",
    "# Instantiate models and optimizers and run decentralized training\n",
    "\n",
    "global_model, client_models, accs2 = run_failures(train_loader, test_loader, comm_matrix, num_rounds,\n",
    "                                                             epochs, num_clients, failure_rounds, num_failures, 'none')\n",
    "\n",
    "cons = consensus(global_model, client_models)\n",
    "print(cons)\n",
    "\n",
    "axes = plt.gca()\n",
    "axes.set_ylim([0,1])\n",
    "plt.plot(range(num_rounds), accs2)\n",
    "plt.show()"
   ]
  },
  {
   "cell_type": "code",
   "execution_count": 23,
   "metadata": {
    "colab": {
     "base_uri": "https://localhost:8080/",
     "height": 827
    },
    "id": "SQR5ntEiTUKF",
    "outputId": "62e3677d-0488-4b3a-d0ff-bf18dee1d006"
   },
   "outputs": [
    {
     "name": "stdout",
     "output_type": "stream",
     "text": [
      "normal round\n",
      "0-th round\n",
      "lr 0.1 | average train loss 2.26 | test loss 2.25 | test acc: 0.324\n",
      "normal round\n",
      "1-th round\n",
      "lr 0.1 | average train loss 1.83 | test loss 1.61 | test acc: 0.708\n",
      "failure round\n",
      "2-th round\n",
      "lr 0.1 | average train loss 1.08 | test loss 0.784 | test acc: 0.789\n",
      "normal round\n",
      "3-th round\n",
      "lr 0.1 | average train loss 0.814 | test loss 0.545 | test acc: 0.853\n",
      "normal round\n",
      "4-th round\n",
      "lr 0.1 | average train loss 0.625 | test loss 0.444 | test acc: 0.877\n",
      "failure round\n",
      "5-th round\n",
      "lr 0.1 | average train loss 0.555 | test loss 0.352 | test acc: 0.905\n",
      "failure round\n",
      "6-th round\n",
      "lr 0.1 | average train loss 0.457 | test loss 0.303 | test acc: 0.916\n",
      "failure round\n",
      "7-th round\n",
      "lr 0.1 | average train loss 0.378 | test loss 0.274 | test acc: 0.922\n",
      "normal round\n",
      "8-th round\n",
      "lr 0.1 | average train loss 0.349 | test loss 0.24 | test acc: 0.930\n",
      "failure round\n",
      "9-th round\n",
      "lr 0.1 | average train loss 0.322 | test loss 0.222 | test acc: 0.935\n",
      "[0.056124, 0.035642, 0.026615, 0.035038, 0.030674, 0.028117, 0.028623, 0.038762, 0.079828, 0.109367, 0.055487, 0.04942, 0.030223, 0.026593, 0.025788, 0.027249, 0.032517, 0.033738, 0.120313, 0.072388, 0.053041, 0.042656, 0.030889, 0.027777, 0.029714, 0.027779, 0.030223, 0.036424, 0.053852, 0.062337, 0.041713, 0.03362, 0.029099, 0.022935, 0.032871, 0.029763, 0.030503, 0.028766, 0.038729, 0.05252, 0.054325, 0.040133, 0.042881, 0.029798, 0.035681, 0.040751, 0.033901, 0.031125, 0.029537, 0.044322, 0.045496, 0.033866, 0.02931, 0.025387, 0.040348, 0.045305, 0.031775, 0.033163, 0.030752, 0.493488, 0.032097, 0.031068, 0.026606, 0.025542, 0.117288, 0.085691, 0.042215, 0.026602, 0.029159, 0.029615, 0.03053, 0.027369, 0.028221, 0.031921, 0.037104, 0.036464, 0.032206, 0.023901, 0.0323, 0.028262, 0.042909, 0.028545, 0.02326, 0.028635, 0.031291, 0.038577, 0.037095, 0.032851, 0.030972, 0.032644, 0.050628, 0.027678, 0.022852, 0.032959, 0.02558, 0.027591, 0.026981, 0.033133, 0.037512, 0.045303]\n"
     ]
    },
    {
     "data": {
      "image/png": "[encoded data removed]",
      "text/plain": [
       "<Figure size 432x288 with 1 Axes>"
      ]
     },
     "metadata": {
      "needs_background": "light",
      "tags": []
     },
     "output_type": "display_data"
    }
   ],
   "source": [
    "# IID case: all the clients have images of all the classes\n",
    "# Ring graph topology: each client is connected to two neighbours exactly\n",
    "\n",
    "# Hyperparameters\n",
    "\n",
    "num_clients = 100\n",
    "num_rounds = 10\n",
    "epochs = 1\n",
    "batch_size = 32\n",
    "num_failures = 50\n",
    "failure_rounds = np.random.choice(range(num_rounds), size=5, replace=False)\n",
    "\n",
    "# Communication matrix\n",
    "\n",
    "comm_matrix = create_mixing_matrix('grid', num_clients)\n",
    "\n",
    "# Creating decentralized datasets\n",
    "\n",
    "train_loader, test_loader = load_data(batch_size, num_clients)\n",
    "\n",
    "# Instantiate models and optimizers and run decentralized training\n",
    "\n",
    "global_model, client_models, accs3 = run_failures(train_loader, test_loader, comm_matrix, num_rounds,\n",
    "                                                             epochs, num_clients, failure_rounds, num_failures, 'none')\n",
    "\n",
    "cons = consensus(global_model, client_models)\n",
    "print(cons)\n",
    "\n",
    "axes = plt.gca()\n",
    "axes.set_ylim([0,1])\n",
    "plt.plot(range(num_rounds), accs3)\n",
    "plt.show()"
   ]
  },
  {
   "cell_type": "code",
   "execution_count": 24,
   "metadata": {
    "colab": {
     "base_uri": "https://localhost:8080/",
     "height": 827
    },
    "id": "lv7GrksdTUKF",
    "outputId": "e54f32ea-bfdc-4e1d-f927-fe1fdf9a49ef"
   },
   "outputs": [
    {
     "name": "stdout",
     "output_type": "stream",
     "text": [
      "normal round\n",
      "0-th round\n",
      "lr 0.1 | average train loss 2.28 | test loss 2.27 | test acc: 0.364\n",
      "normal round\n",
      "1-th round\n",
      "lr 0.1 | average train loss 2.09 | test loss 2.04 | test acc: 0.543\n",
      "failure round\n",
      "2-th round\n",
      "lr 0.1 | average train loss 1.38 | test loss 1.02 | test acc: 0.766\n",
      "failure round\n",
      "3-th round\n",
      "lr 0.1 | average train loss 0.897 | test loss 0.635 | test acc: 0.825\n",
      "failure round\n",
      "4-th round\n",
      "lr 0.1 | average train loss 0.677 | test loss 0.492 | test acc: 0.867\n",
      "failure round\n",
      "5-th round\n",
      "lr 0.1 | average train loss 0.576 | test loss 0.393 | test acc: 0.892\n",
      "normal round\n",
      "6-th round\n",
      "lr 0.1 | average train loss 0.496 | test loss 0.336 | test acc: 0.907\n",
      "normal round\n",
      "7-th round\n",
      "lr 0.1 | average train loss 0.383 | test loss 0.292 | test acc: 0.918\n",
      "failure round\n",
      "8-th round\n",
      "lr 0.1 | average train loss 0.362 | test loss 0.263 | test acc: 0.924\n",
      "normal round\n",
      "9-th round\n",
      "lr 0.1 | average train loss 0.331 | test loss 0.24 | test acc: 0.930\n",
      "[0.036803, 0.035145, 0.034529, 0.038144, 0.048862, 0.484675, 0.097854, 0.07537, 0.053931, 0.041111, 0.043814, 0.059025, 0.064786, 0.093532, 0.050808, 0.501996, 0.049486, 0.04727, 0.042202, 0.046697, 0.061082, 0.064829, 0.086876, 0.04901, 0.040766, 0.039291, 0.032097, 0.041223, 0.047545, 0.080223, 0.08024, 0.092102, 0.069321, 0.040078, 0.048862, 0.449785, 0.039843, 0.062889, 0.095251, 0.119928, 0.141903, 0.098682, 0.088105, 0.052115, 0.058151, 0.467539, 0.039574, 0.044813, 0.068642, 0.466966, 0.116407, 0.563594, 0.166393, 0.059073, 0.051204, 0.042159, 0.033121, 0.031082, 0.052557, 0.076081, 0.09571, 0.529369, 0.168208, 0.176597, 0.075375, 0.162879, 0.043839, 0.037027, 0.075814, 0.100675, 0.083128, 0.094387, 0.061925, 0.057541, 0.161504, 0.150274, 0.090107, 0.052912, 0.057015, 0.068893, 0.077548, 0.04965, 0.038182, 0.045945, 0.065637, 0.158819, 0.120921, 0.082603, 0.097531, 0.49237, 0.080263, 0.043613, 0.036066, 0.048305, 0.06532, 0.567977, 0.463986, 0.094356, 0.083556, 0.580577]\n"
     ]
    },
    {
     "data": {
      "image/png": "[encoded data removed]",
      "text/plain": [
       "<Figure size 432x288 with 1 Axes>"
      ]
     },
     "metadata": {
      "needs_background": "light",
      "tags": []
     },
     "output_type": "display_data"
    }
   ],
   "source": [
    "# IID case: all the clients have images of all the classes\n",
    "# Ring graph topology: each client is connected to two neighbours exactly\n",
    "\n",
    "# Hyperparameters\n",
    "\n",
    "num_clients = 100\n",
    "num_rounds = 10\n",
    "epochs = 1\n",
    "batch_size = 32\n",
    "num_failures = 100\n",
    "failure_rounds = np.random.choice(range(num_rounds), size=5, replace=False)\n",
    "\n",
    "# Communication matrix\n",
    "\n",
    "comm_matrix = create_mixing_matrix('grid', num_clients)\n",
    "\n",
    "# Creating decentralized datasets\n",
    "\n",
    "train_loader, test_loader = load_data(batch_size, num_clients)\n",
    "\n",
    "# Instantiate models and optimizers and run decentralized training\n",
    "\n",
    "global_model, client_models, accs4 = run_failures(train_loader, test_loader, comm_matrix, num_rounds,\n",
    "                                                             epochs, num_clients, failure_rounds, num_failures, 'none')\n",
    "\n",
    "cons = consensus(global_model, client_models)\n",
    "print(cons)\n",
    "\n",
    "axes = plt.gca()\n",
    "axes.set_ylim([0,1])\n",
    "plt.plot(range(num_rounds), accs4)\n",
    "plt.show()"
   ]
  },
  {
   "cell_type": "code",
   "execution_count": 25,
   "metadata": {
    "colab": {
     "base_uri": "https://localhost:8080/",
     "height": 827
    },
    "id": "hi6r5rpCTUKF",
    "outputId": "34f7acdf-f11c-445c-fbc4-fac4eb19a052"
   },
   "outputs": [
    {
     "name": "stdout",
     "output_type": "stream",
     "text": [
      "normal round\n",
      "0-th round\n",
      "lr 0.1 | average train loss 2.29 | test loss 2.29 | test acc: 0.242\n",
      "failure round\n",
      "1-th round\n",
      "lr 0.1 | average train loss 2.23 | test loss 2.22 | test acc: 0.489\n",
      "failure round\n",
      "2-th round\n",
      "lr 0.1 | average train loss 1.66 | test loss 1.44 | test acc: 0.723\n",
      "failure round\n",
      "3-th round\n",
      "lr 0.1 | average train loss 1.02 | test loss 0.776 | test acc: 0.807\n",
      "normal round\n",
      "4-th round\n",
      "lr 0.1 | average train loss 0.729 | test loss 0.564 | test acc: 0.852\n",
      "normal round\n",
      "5-th round\n",
      "lr 0.1 | average train loss 0.526 | test loss 0.438 | test acc: 0.879\n",
      "normal round\n",
      "6-th round\n",
      "lr 0.1 | average train loss 0.485 | test loss 0.382 | test acc: 0.898\n",
      "failure round\n",
      "7-th round\n",
      "lr 0.1 | average train loss 0.326 | test loss 0.338 | test acc: 0.906\n",
      "failure round\n",
      "8-th round\n",
      "lr 0.1 | average train loss 0.279 | test loss 0.304 | test acc: 0.915\n",
      "normal round\n",
      "9-th round\n",
      "lr 0.1 | average train loss 0.209 | test loss 0.288 | test acc: 0.917\n",
      "[0.405293, 0.432701, 0.456955, 0.433717, 0.458952, 0.435602, 0.412081, 0.412142, 0.450519, 0.54696, 0.423727, 0.403471, 0.417644, 0.406994, 0.451305, 0.395923, 0.445798, 0.413621, 0.506746, 0.507721, 0.452011, 0.375748, 0.570567, 0.453866, 0.411509, 0.45381, 0.404142, 0.499279, 0.504277, 0.459387, 0.433416, 0.473579, 0.418004, 0.492966, 0.472694, 0.453081, 0.449629, 0.483409, 0.456015, 0.468503, 0.448195, 0.433049, 0.45619, 0.428553, 0.482248, 0.497009, 0.455646, 0.442196, 0.42672, 0.476505, 0.392017, 0.38697, 0.435454, 0.419036, 0.416625, 0.406596, 0.416919, 0.454402, 0.403158, 0.392919, 0.430308, 0.436007, 0.405471, 0.440409, 0.418736, 0.443911, 0.484894, 0.893403, 0.425421, 0.460285, 0.374882, 0.418945, 0.440224, 0.476537, 0.449109, 0.450436, 0.506424, 0.41203, 0.420842, 0.425413, 0.627122, 0.487958, 0.433941, 0.417566, 0.44552, 0.4505, 0.605693, 0.430505, 0.461024, 0.432022, 0.40974, 0.398211, 0.510696, 0.425391, 0.425196, 0.458675, 0.464214, 0.441218, 0.400125, 0.398569]\n"
     ]
    },
    {
     "data": {
      "image/png": "[encoded data removed]",
      "text/plain": [
       "<Figure size 432x288 with 1 Axes>"
      ]
     },
     "metadata": {
      "needs_background": "light",
      "tags": []
     },
     "output_type": "display_data"
    }
   ],
   "source": [
    "# IID case: all the clients have images of all the classes\n",
    "# Ring graph topology: each client is connected to two neighbours exactly\n",
    "\n",
    "# Hyperparameters\n",
    "\n",
    "num_clients = 100\n",
    "num_rounds = 10\n",
    "epochs = 1\n",
    "batch_size = 32\n",
    "num_failures = 200\n",
    "failure_rounds = np.random.choice(range(num_rounds), size=5, replace=False)\n",
    "\n",
    "# Communication matrix\n",
    "\n",
    "comm_matrix = create_mixing_matrix('grid', num_clients)\n",
    "\n",
    "# Creating decentralized datasets\n",
    "\n",
    "train_loader, test_loader = load_data(batch_size, num_clients)\n",
    "\n",
    "# Instantiate models and optimizers and run decentralized training\n",
    "\n",
    "global_model, client_models, accs5 = run_failures(train_loader, test_loader, comm_matrix, num_rounds,\n",
    "                                                             epochs, num_clients, failure_rounds, num_failures, 'none')\n",
    "\n",
    "cons = consensus(global_model, client_models)\n",
    "print(cons)\n",
    "\n",
    "axes = plt.gca()\n",
    "axes.set_ylim([0,1])\n",
    "plt.plot(range(num_rounds), accs5)\n",
    "plt.show()"
   ]
  },
  {
   "cell_type": "code",
   "execution_count": 26,
   "metadata": {
    "colab": {
     "base_uri": "https://localhost:8080/",
     "height": 567
    },
    "id": "BNLfrrlITUKF",
    "outputId": "5eb0abb4-cfbd-46bf-aa0d-eb9adb67637c"
   },
   "outputs": [
    {
     "data": {
      "image/png": "[encoded data removed]",
      "text/plain": [
       "<Figure size 864x648 with 1 Axes>"
      ]
     },
     "metadata": {
      "needs_background": "light",
      "tags": []
     },
     "output_type": "display_data"
    }
   ],
   "source": [
    "fig, ax = plt.subplots(1, figsize=(12, 9))\n",
    "ax.set_ylim([0, 1])\n",
    "x = np.array(range(10))\n",
    "ax.plot(x, accs, color=\"blue\", label=\"no failure\")\n",
    "ax.plot(x, accs1, color=\"green\", label=\"10 failures\")\n",
    "ax.plot(x, accs2, color=\"purple\", label=\"25 failures\")\n",
    "ax.plot(x, accs3, color=\"yellow\", label=\"50 failures\")\n",
    "ax.plot(x, accs4, color=\"orange\", label=\"100 failures\")\n",
    "ax.plot(x, accs5, color=\"red\", label=\"200 failures\")\n",
    "\n",
    "# Add a legend, and position it on the lower right (with no box)\n",
    "plt.legend(loc=\"lower right\", title=\"Number of failures\", frameon=False)\n",
    "plt.title(\"Accuracy curve depending on number of failures with no correction\")\n",
    "plt.xlabel(\"Round\")\n",
    "plt.ylabel(\"Accuracy\")\n",
    "plt.show()"
   ]
  },
  {
   "cell_type": "markdown",
   "metadata": {
    "id": "tG_8sQpn_26m"
   },
   "source": [
    "### Failure simulation with local correction (recovery)"
   ]
  },
  {
   "cell_type": "code",
   "execution_count": 27,
   "metadata": {
    "colab": {
     "base_uri": "https://localhost:8080/",
     "height": 827
    },
    "id": "uTwxmXr2VCWK",
    "outputId": "7d8d0d81-c08d-4e30-bc9e-7d25d223806b"
   },
   "outputs": [
    {
     "name": "stdout",
     "output_type": "stream",
     "text": [
      "failure round\n",
      "0-th round\n",
      "lr 0.1 | average train loss 2.22 | test loss 2.21 | test acc: 0.487\n",
      "normal round\n",
      "1-th round\n",
      "lr 0.1 | average train loss 1.56 | test loss 1.21 | test acc: 0.760\n",
      "failure round\n",
      "2-th round\n",
      "lr 0.1 | average train loss 0.964 | test loss 0.677 | test acc: 0.816\n",
      "normal round\n",
      "3-th round\n",
      "lr 0.1 | average train loss 0.724 | test loss 0.475 | test acc: 0.872\n",
      "normal round\n",
      "4-th round\n",
      "lr 0.1 | average train loss 0.59 | test loss 0.382 | test acc: 0.898\n",
      "failure round\n",
      "5-th round\n",
      "lr 0.1 | average train loss 0.478 | test loss 0.323 | test acc: 0.912\n",
      "normal round\n",
      "6-th round\n",
      "lr 0.1 | average train loss 0.418 | test loss 0.285 | test acc: 0.919\n",
      "normal round\n",
      "7-th round\n",
      "lr 0.1 | average train loss 0.382 | test loss 0.248 | test acc: 0.929\n",
      "failure round\n",
      "8-th round\n",
      "lr 0.1 | average train loss 0.327 | test loss 0.227 | test acc: 0.933\n",
      "failure round\n",
      "9-th round\n",
      "lr 0.1 | average train loss 0.328 | test loss 0.207 | test acc: 0.937\n",
      "[0.027909, 0.023796, 0.021589, 0.022668, 0.021426, 0.020989, 0.02255, 0.033619, 0.03425, 0.024244, 0.023282, 0.021629, 0.020773, 0.022612, 0.021067, 0.019306, 0.021268, 0.020914, 0.020976, 0.021141, 0.021917, 0.019229, 0.019522, 0.020946, 0.021104, 0.020927, 0.021757, 0.021166, 0.019879, 0.018618, 0.032928, 0.02128, 0.02065, 0.022607, 0.030888, 0.030562, 0.034207, 0.021954, 0.022664, 0.029266, 0.022666, 0.021612, 0.021864, 0.023399, 0.021598, 0.021976, 0.056675, 0.022833, 0.021866, 0.019494, 0.023033, 0.021784, 0.034065, 0.03135, 0.022077, 0.022086, 0.031507, 0.022103, 0.02054, 0.021854, 0.024887, 0.022473, 0.021649, 0.020236, 0.021979, 0.025911, 0.024306, 0.021208, 0.021079, 0.033074, 0.026211, 0.02213, 0.021374, 0.02358, 0.032986, 0.058214, 0.025487, 0.021223, 0.021301, 0.030658, 0.033306, 0.020142, 0.020175, 0.022359, 0.022944, 0.030414, 0.020257, 0.020856, 0.020696, 0.019369, 0.032549, 0.018515, 0.018718, 0.019661, 0.019761, 0.019462, 0.019718, 0.019779, 0.020066, 0.018013]\n"
     ]
    },
    {
     "data": {
      "image/png": "[encoded data removed]",
      "text/plain": [
       "<Figure size 432x288 with 1 Axes>"
      ]
     },
     "metadata": {
      "needs_background": "light",
      "tags": []
     },
     "output_type": "display_data"
    }
   ],
   "source": [
    "# IID case: all the clients have images of all the classes\n",
    "# Ring graph topology: each client is connected to two neighbours exactly\n",
    "\n",
    "# Hyperparameters\n",
    "\n",
    "num_clients = 100\n",
    "num_rounds = 10\n",
    "epochs = 1\n",
    "batch_size = 32\n",
    "num_failures = 10\n",
    "failure_rounds = np.random.choice(range(num_rounds), size=5, replace=False)\n",
    "\n",
    "# Communication matrix\n",
    "\n",
    "comm_matrix = create_mixing_matrix('grid', num_clients)\n",
    "\n",
    "# Creating decentralized datasets\n",
    "\n",
    "train_loader, test_loader = load_data(batch_size, num_clients)\n",
    "\n",
    "# Instantiate models and optimizers and run decentralized training\n",
    "\n",
    "global_model, client_models, accs1 = run_failures(train_loader, test_loader, comm_matrix, num_rounds,\n",
    "                                                             epochs, num_clients, failure_rounds, num_failures, 'local')\n",
    "\n",
    "cons = consensus(global_model, client_models)\n",
    "print(cons)\n",
    "\n",
    "axes = plt.gca()\n",
    "axes.set_ylim([0,1])\n",
    "plt.plot(range(num_rounds), accs1)\n",
    "plt.show()"
   ]
  },
  {
   "cell_type": "code",
   "execution_count": 28,
   "metadata": {
    "colab": {
     "base_uri": "https://localhost:8080/",
     "height": 827
    },
    "id": "J1nfXMVcVCWL",
    "outputId": "4f6770e3-60ef-4ecc-bc5a-9f7d7a7e72bf"
   },
   "outputs": [
    {
     "name": "stdout",
     "output_type": "stream",
     "text": [
      "failure round\n",
      "0-th round\n",
      "lr 0.1 | average train loss 2.26 | test loss 2.25 | test acc: 0.390\n",
      "failure round\n",
      "1-th round\n",
      "lr 0.1 | average train loss 1.75 | test loss 1.54 | test acc: 0.680\n",
      "failure round\n",
      "2-th round\n",
      "lr 0.1 | average train loss 1.1 | test loss 0.797 | test acc: 0.792\n",
      "normal round\n",
      "3-th round\n",
      "lr 0.1 | average train loss 0.798 | test loss 0.55 | test acc: 0.849\n",
      "normal round\n",
      "4-th round\n",
      "lr 0.1 | average train loss 0.643 | test loss 0.425 | test acc: 0.884\n",
      "normal round\n",
      "5-th round\n",
      "lr 0.1 | average train loss 0.49 | test loss 0.352 | test acc: 0.903\n",
      "failure round\n",
      "6-th round\n",
      "lr 0.1 | average train loss 0.508 | test loss 0.305 | test acc: 0.914\n",
      "failure round\n",
      "7-th round\n",
      "lr 0.1 | average train loss 0.398 | test loss 0.265 | test acc: 0.923\n",
      "normal round\n",
      "8-th round\n",
      "lr 0.1 | average train loss 0.351 | test loss 0.241 | test acc: 0.929\n",
      "normal round\n",
      "9-th round\n",
      "lr 0.1 | average train loss 0.318 | test loss 0.218 | test acc: 0.934\n",
      "[0.026918, 0.023045, 0.020581, 0.019364, 0.0248, 0.028764, 0.041305, 0.07415, 0.060749, 0.027103, 0.037177, 0.022055, 0.017794, 0.018156, 0.020993, 0.022475, 0.028035, 0.069447, 0.038643, 0.022494, 0.04023, 0.030301, 0.018161, 0.017542, 0.019498, 0.019789, 0.023066, 0.037325, 0.025972, 0.021688, 0.062884, 0.063966, 0.027706, 0.021245, 0.020219, 0.020271, 0.022286, 0.039842, 0.02588, 0.033184, 0.027243, 0.036898, 0.046824, 0.038941, 0.024834, 0.021248, 0.021994, 0.033734, 0.02479, 0.022216, 0.038455, 0.038555, 0.071166, 0.042557, 0.040824, 0.035805, 0.024828, 0.024135, 0.034766, 0.032775, 0.023254, 0.023656, 0.033014, 0.026435, 0.029423, 0.037513, 0.033304, 0.023485, 0.030414, 0.020055, 0.021205, 0.021271, 0.022556, 0.026283, 0.038779, 0.036182, 0.023149, 0.02102, 0.021506, 0.018547, 0.030229, 0.034197, 0.026624, 0.034716, 0.076474, 0.077878, 0.038483, 0.022253, 0.022009, 0.021426, 0.033079, 0.023775, 0.021413, 0.021411, 0.031338, 0.062715, 0.146898, 0.039472, 0.030311, 0.03684]\n"
     ]
    },
    {
     "data": {
      "image/png": "[encoded data removed]",
      "text/plain": [
       "<Figure size 432x288 with 1 Axes>"
      ]
     },
     "metadata": {
      "needs_background": "light",
      "tags": []
     },
     "output_type": "display_data"
    }
   ],
   "source": [
    "# IID case: all the clients have images of all the classes\n",
    "# Ring graph topology: each client is connected to two neighbours exactly\n",
    "\n",
    "# Hyperparameters\n",
    "\n",
    "num_clients = 100\n",
    "num_rounds = 10\n",
    "epochs = 1\n",
    "batch_size = 32\n",
    "num_failures = 25\n",
    "failure_rounds = np.random.choice(range(num_rounds), size=5, replace=False)\n",
    "\n",
    "# Communication matrix\n",
    "\n",
    "comm_matrix = create_mixing_matrix('grid', num_clients)\n",
    "\n",
    "# Creating decentralized datasets\n",
    "\n",
    "train_loader, test_loader = load_data(batch_size, num_clients)\n",
    "\n",
    "# Instantiate models and optimizers and run decentralized training\n",
    "\n",
    "global_model, client_models, accs2 = run_failures(train_loader, test_loader, comm_matrix, num_rounds,\n",
    "                                                             epochs, num_clients, failure_rounds, num_failures, 'local')\n",
    "\n",
    "cons = consensus(global_model, client_models)\n",
    "print(cons)\n",
    "\n",
    "axes = plt.gca()\n",
    "axes.set_ylim([0,1])\n",
    "plt.plot(range(num_rounds), accs2)\n",
    "plt.show()"
   ]
  },
  {
   "cell_type": "code",
   "execution_count": 29,
   "metadata": {
    "colab": {
     "base_uri": "https://localhost:8080/",
     "height": 827
    },
    "id": "2nJcQptFVCWM",
    "outputId": "50d69574-cccf-44e7-8306-8bc473bc2adb"
   },
   "outputs": [
    {
     "name": "stdout",
     "output_type": "stream",
     "text": [
      "failure round\n",
      "0-th round\n",
      "lr 0.1 | average train loss 2.26 | test loss 2.26 | test acc: 0.325\n",
      "failure round\n",
      "1-th round\n",
      "lr 0.1 | average train loss 1.81 | test loss 1.64 | test acc: 0.735\n",
      "failure round\n",
      "2-th round\n",
      "lr 0.1 | average train loss 1.15 | test loss 0.799 | test acc: 0.816\n",
      "failure round\n",
      "3-th round\n",
      "lr 0.1 | average train loss 0.779 | test loss 0.537 | test acc: 0.857\n",
      "normal round\n",
      "4-th round\n",
      "lr 0.1 | average train loss 0.691 | test loss 0.432 | test acc: 0.885\n",
      "failure round\n",
      "5-th round\n",
      "lr 0.1 | average train loss 0.519 | test loss 0.344 | test acc: 0.907\n",
      "normal round\n",
      "6-th round\n",
      "lr 0.1 | average train loss 0.472 | test loss 0.304 | test acc: 0.915\n",
      "normal round\n",
      "7-th round\n",
      "lr 0.1 | average train loss 0.366 | test loss 0.267 | test acc: 0.923\n",
      "normal round\n",
      "8-th round\n",
      "lr 0.1 | average train loss 0.337 | test loss 0.243 | test acc: 0.928\n",
      "normal round\n",
      "9-th round\n",
      "lr 0.1 | average train loss 0.291 | test loss 0.22 | test acc: 0.935\n",
      "[0.034292, 0.063313, 0.062891, 0.031254, 0.030995, 0.039952, 0.056823, 0.079077, 0.033701, 0.038397, 0.041559, 0.072044, 0.156905, 0.038931, 0.040186, 0.04451, 0.068923, 0.048422, 0.050898, 0.05134, 0.056932, 0.036556, 0.042104, 0.043997, 0.078355, 0.051201, 0.050882, 0.044181, 0.126207, 0.085794, 0.222536, 0.041792, 0.042001, 0.069678, 0.060512, 0.065672, 0.083363, 0.069238, 0.197183, 0.122617, 0.044057, 0.029726, 0.024668, 0.028588, 0.041595, 0.038263, 0.039502, 0.048839, 0.042682, 0.03842, 0.07212, 0.074927, 0.036395, 0.029535, 0.038759, 0.026408, 0.026041, 0.041971, 0.042978, 0.067346, 0.044096, 0.048826, 0.039135, 0.065828, 0.155782, 0.03135, 0.023629, 0.029143, 0.04074, 0.026431, 0.046788, 0.070889, 0.025366, 0.043241, 0.036638, 0.02847, 0.026351, 0.029081, 0.058174, 0.029611, 0.032386, 0.033445, 0.023522, 0.0346, 0.030484, 0.061445, 0.049788, 0.044347, 0.063406, 0.069309, 0.029434, 0.030878, 0.028269, 0.026134, 0.029569, 0.075315, 0.086593, 0.081364, 0.037686, 0.060395]\n"
     ]
    },
    {
     "data": {
      "image/png": "[encoded data removed]",
      "text/plain": [
       "<Figure size 432x288 with 1 Axes>"
      ]
     },
     "metadata": {
      "needs_background": "light",
      "tags": []
     },
     "output_type": "display_data"
    }
   ],
   "source": [
    "# IID case: all the clients have images of all the classes\n",
    "# Ring graph topology: each client is connected to two neighbours exactly\n",
    "\n",
    "# Hyperparameters\n",
    "\n",
    "num_clients = 100\n",
    "num_rounds = 10\n",
    "epochs = 1\n",
    "batch_size = 32\n",
    "num_failures = 50\n",
    "failure_rounds = np.random.choice(range(num_rounds), size=5, replace=False)\n",
    "\n",
    "# Communication matrix\n",
    "\n",
    "comm_matrix = create_mixing_matrix('grid', num_clients)\n",
    "\n",
    "# Creating decentralized datasets\n",
    "\n",
    "train_loader, test_loader = load_data(batch_size, num_clients)\n",
    "\n",
    "# Instantiate models and optimizers and run decentralized training\n",
    "\n",
    "global_model, client_models, accs3 = run_failures(train_loader, test_loader, comm_matrix, num_rounds,\n",
    "                                                             epochs, num_clients, failure_rounds, num_failures, 'local')\n",
    "\n",
    "cons = consensus(global_model, client_models)\n",
    "print(cons)\n",
    "\n",
    "axes = plt.gca()\n",
    "axes.set_ylim([0,1])\n",
    "plt.plot(range(num_rounds), accs3)\n",
    "plt.show()"
   ]
  },
  {
   "cell_type": "code",
   "execution_count": 30,
   "metadata": {
    "colab": {
     "base_uri": "https://localhost:8080/",
     "height": 827
    },
    "id": "MYiz1zGSVCWM",
    "outputId": "321e148d-b1d4-4a6d-d89d-36c9d3bb8909"
   },
   "outputs": [
    {
     "name": "stdout",
     "output_type": "stream",
     "text": [
      "normal round\n",
      "0-th round\n",
      "lr 0.1 | average train loss 2.28 | test loss 2.28 | test acc: 0.268\n",
      "failure round\n",
      "1-th round\n",
      "lr 0.1 | average train loss 2.16 | test loss 2.13 | test acc: 0.610\n",
      "normal round\n",
      "2-th round\n",
      "lr 0.1 | average train loss 1.45 | test loss 1.07 | test acc: 0.785\n",
      "failure round\n",
      "3-th round\n",
      "lr 0.1 | average train loss 0.937 | test loss 0.646 | test acc: 0.837\n",
      "failure round\n",
      "4-th round\n",
      "lr 0.1 | average train loss 0.697 | test loss 0.496 | test acc: 0.865\n",
      "normal round\n",
      "5-th round\n",
      "lr 0.1 | average train loss 0.571 | test loss 0.403 | test acc: 0.892\n",
      "failure round\n",
      "6-th round\n",
      "lr 0.1 | average train loss 0.434 | test loss 0.34 | test acc: 0.906\n",
      "normal round\n",
      "7-th round\n",
      "lr 0.1 | average train loss 0.385 | test loss 0.297 | test acc: 0.916\n",
      "failure round\n",
      "8-th round\n",
      "lr 0.1 | average train loss 0.317 | test loss 0.271 | test acc: 0.922\n",
      "normal round\n",
      "9-th round\n",
      "lr 0.1 | average train loss 0.284 | test loss 0.249 | test acc: 0.927\n",
      "[0.088258, 0.08428, 0.104636, 0.063062, 0.058369, 0.097546, 0.110288, 0.204038, 0.138239, 0.074592, 0.147163, 0.160402, 0.46277, 0.162283, 0.538292, 0.110601, 0.112242, 0.164133, 0.141636, 0.063369, 0.058086, 0.152353, 0.100337, 0.086701, 0.094865, 0.096873, 0.068518, 0.079074, 0.084209, 0.050152, 0.06916, 0.159806, 0.116392, 0.115513, 0.143489, 0.202198, 0.094692, 0.104149, 0.095831, 0.078068, 0.379471, 0.25365, 0.246773, 0.1223, 0.179016, 0.502297, 0.063905, 0.099859, 0.086158, 0.058496, 0.094815, 0.090627, 0.10685, 0.117621, 0.142524, 0.067786, 0.04831, 0.091471, 0.086338, 0.060802, 0.090084, 0.089339, 0.099728, 0.089324, 0.10395, 0.088636, 0.075459, 0.062241, 0.082706, 0.072265, 0.067062, 0.052363, 0.071625, 0.049898, 0.09152, 0.058073, 0.061807, 0.090985, 0.180879, 0.103127, 0.456291, 0.145166, 0.196634, 0.044, 0.047004, 0.051542, 0.089097, 0.164402, 0.132872, 0.200211, 0.186748, 0.123181, 0.146393, 0.051133, 0.056275, 0.137747, 0.138668, 0.202206, 0.127416, 0.16636]\n"
     ]
    },
    {
     "data": {
      "image/png": "[encoded data removed]",
      "text/plain": [
       "<Figure size 432x288 with 1 Axes>"
      ]
     },
     "metadata": {
      "needs_background": "light",
      "tags": []
     },
     "output_type": "display_data"
    }
   ],
   "source": [
    "# IID case: all the clients have images of all the classes\n",
    "# Ring graph topology: each client is connected to two neighbours exactly\n",
    "\n",
    "# Hyperparameters\n",
    "\n",
    "num_clients = 100\n",
    "num_rounds = 10\n",
    "epochs = 1\n",
    "batch_size = 32\n",
    "num_failures = 100\n",
    "failure_rounds = np.random.choice(range(num_rounds), size=5, replace=False)\n",
    "\n",
    "# Communication matrix\n",
    "\n",
    "comm_matrix = create_mixing_matrix('grid', num_clients)\n",
    "\n",
    "# Creating decentralized datasets\n",
    "\n",
    "train_loader, test_loader = load_data(batch_size, num_clients)\n",
    "\n",
    "# Instantiate models and optimizers and run decentralized training\n",
    "\n",
    "global_model, client_models, accs4 = run_failures(train_loader, test_loader, comm_matrix, num_rounds,\n",
    "                                                             epochs, num_clients, failure_rounds, num_failures, 'local')\n",
    "\n",
    "cons = consensus(global_model, client_models)\n",
    "print(cons)\n",
    "\n",
    "axes = plt.gca()\n",
    "axes.set_ylim([0,1])\n",
    "plt.plot(range(num_rounds), accs4)\n",
    "plt.show()"
   ]
  },
  {
   "cell_type": "code",
   "execution_count": 31,
   "metadata": {
    "colab": {
     "base_uri": "https://localhost:8080/",
     "height": 827
    },
    "id": "fB-Rm8aHVCWO",
    "outputId": "6f6d49b7-99a3-4e83-f610-f1f68dd430e6"
   },
   "outputs": [
    {
     "name": "stdout",
     "output_type": "stream",
     "text": [
      "normal round\n",
      "0-th round\n",
      "lr 0.1 | average train loss 2.25 | test loss 2.24 | test acc: 0.400\n",
      "normal round\n",
      "1-th round\n",
      "lr 0.1 | average train loss 1.67 | test loss 1.38 | test acc: 0.742\n",
      "failure round\n",
      "2-th round\n",
      "lr 0.1 | average train loss 1.02 | test loss 0.746 | test acc: 0.817\n",
      "failure round\n",
      "3-th round\n",
      "lr 0.1 | average train loss 0.715 | test loss 0.559 | test acc: 0.843\n",
      "failure round\n",
      "4-th round\n",
      "lr 0.1 | average train loss 0.575 | test loss 0.451 | test acc: 0.876\n",
      "failure round\n",
      "5-th round\n",
      "lr 0.1 | average train loss 0.44 | test loss 0.378 | test acc: 0.894\n",
      "normal round\n",
      "6-th round\n",
      "lr 0.1 | average train loss 0.329 | test loss 0.334 | test acc: 0.905\n",
      "failure round\n",
      "7-th round\n",
      "lr 0.1 | average train loss 0.266 | test loss 0.306 | test acc: 0.910\n",
      "normal round\n",
      "8-th round\n",
      "lr 0.1 | average train loss 0.199 | test loss 0.295 | test acc: 0.913\n",
      "normal round\n",
      "9-th round\n",
      "lr 0.1 | average train loss 0.147 | test loss 0.285 | test acc: 0.915\n",
      "[0.500579, 0.513371, 0.429482, 0.49025, 0.430809, 0.589203, 0.408631, 0.55371, 0.474957, 0.467258, 0.596669, 0.444405, 0.436364, 0.454526, 0.466854, 0.528442, 0.493305, 0.541805, 0.468766, 0.466083, 0.488167, 0.478128, 0.462739, 0.462055, 0.47686, 0.581808, 0.506784, 0.511279, 0.438804, 0.425561, 0.439918, 0.479517, 0.611484, 0.490766, 0.479662, 0.421841, 0.4203, 0.394477, 0.447142, 0.656032, 0.437967, 0.456414, 0.466028, 0.518693, 0.476314, 0.459091, 0.637522, 0.464386, 0.449753, 0.468693, 0.489543, 0.410788, 0.509134, 0.517273, 0.512745, 0.473065, 0.424326, 0.510792, 0.54076, 0.545939, 0.626716, 0.526169, 0.425736, 0.458084, 0.586514, 0.673005, 0.406142, 0.394642, 0.511204, 0.442861, 0.498412, 0.50084, 0.469376, 0.454731, 0.495689, 0.497718, 0.461946, 0.424096, 0.55089, 0.455893, 0.403648, 0.468031, 0.513507, 0.492835, 0.768797, 0.520176, 0.44974, 0.521022, 0.429256, 0.420894, 0.529744, 0.464116, 0.636838, 0.413856, 0.431005, 0.536018, 0.446806, 0.53004, 0.582381, 0.541576]\n"
     ]
    },
    {
     "data": {
      "image/png": "[encoded data removed]",
      "text/plain": [
       "<Figure size 432x288 with 1 Axes>"
      ]
     },
     "metadata": {
      "needs_background": "light",
      "tags": []
     },
     "output_type": "display_data"
    }
   ],
   "source": [
    "# IID case: all the clients have images of all the classes\n",
    "# Ring graph topology: each client is connected to two neighbours exactly\n",
    "\n",
    "# Hyperparameters\n",
    "\n",
    "num_clients = 100\n",
    "num_rounds = 10\n",
    "epochs = 1\n",
    "batch_size = 32\n",
    "num_failures = 200\n",
    "failure_rounds = np.random.choice(range(num_rounds), size=5, replace=False)\n",
    "\n",
    "# Communication matrix\n",
    "\n",
    "comm_matrix = create_mixing_matrix('grid', num_clients)\n",
    "\n",
    "# Creating decentralized datasets\n",
    "\n",
    "train_loader, test_loader = load_data(batch_size, num_clients)\n",
    "\n",
    "# Instantiate models and optimizers and run decentralized training\n",
    "\n",
    "global_model, client_models, accs5 = run_failures(train_loader, test_loader, comm_matrix, num_rounds,\n",
    "                                                             epochs, num_clients, failure_rounds, num_failures, 'local')\n",
    "\n",
    "cons = consensus(global_model, client_models)\n",
    "print(cons)\n",
    "\n",
    "axes = plt.gca()\n",
    "axes.set_ylim([0,1])\n",
    "plt.plot(range(num_rounds), accs5)\n",
    "plt.show()"
   ]
  },
  {
   "cell_type": "code",
   "execution_count": 32,
   "metadata": {
    "colab": {
     "base_uri": "https://localhost:8080/",
     "height": 567
    },
    "id": "Sf-wEcFyVCWO",
    "outputId": "c1562e59-1cc0-4581-eac2-746df9d82cd6"
   },
   "outputs": [
    {
     "data": {
      "image/png": "[encoded data removed]",
      "text/plain": [
       "<Figure size 864x648 with 1 Axes>"
      ]
     },
     "metadata": {
      "needs_background": "light",
      "tags": []
     },
     "output_type": "display_data"
    }
   ],
   "source": [
    "fig, ax = plt.subplots(1, figsize=(12, 9))\n",
    "ax.set_ylim([0, 1])\n",
    "x = np.array(range(10))\n",
    "ax.plot(x, accs, color=\"blue\", label=\"no failure\")\n",
    "ax.plot(x, accs1, color=\"green\", label=\"10 failures\")\n",
    "ax.plot(x, accs2, color=\"purple\", label=\"25 failures\")\n",
    "ax.plot(x, accs3, color=\"yellow\", label=\"50 failures\")\n",
    "ax.plot(x, accs4, color=\"orange\", label=\"100 failures\")\n",
    "ax.plot(x, accs5, color=\"red\", label=\"200 failures\")\n",
    "\n",
    "# Add a legend, and position it on the lower right (with no box)\n",
    "plt.legend(loc=\"lower right\", title=\"Number of failures\")\n",
    "plt.title(\"Accuracy curve depending on number of failures under local correction\")\n",
    "plt.xlabel(\"Round\")\n",
    "plt.ylabel(\"Accuracy\")\n",
    "plt.show()"
   ]
  },
  {
   "cell_type": "markdown",
   "metadata": {
    "id": "WAITPrUrAK-R"
   },
   "source": [
    "### Failure simulation with global correction (recovery)"
   ]
  },
  {
   "cell_type": "code",
   "execution_count": 33,
   "metadata": {
    "colab": {
     "base_uri": "https://localhost:8080/",
     "height": 827
    },
    "id": "O5rckJfsVWP4",
    "outputId": "aeb42d7c-2252-47f3-8694-63bca20051f7"
   },
   "outputs": [
    {
     "name": "stdout",
     "output_type": "stream",
     "text": [
      "failure round\n",
      "0-th round\n",
      "lr 0.1 | average train loss 2.27 | test loss 2.26 | test acc: 0.268\n",
      "normal round\n",
      "1-th round\n",
      "lr 0.1 | average train loss 1.99 | test loss 1.89 | test acc: 0.568\n",
      "failure round\n",
      "2-th round\n",
      "lr 0.1 | average train loss 1.21 | test loss 0.897 | test acc: 0.768\n",
      "failure round\n",
      "3-th round\n",
      "lr 0.1 | average train loss 0.795 | test loss 0.562 | test acc: 0.851\n",
      "normal round\n",
      "4-th round\n",
      "lr 0.1 | average train loss 0.631 | test loss 0.427 | test acc: 0.886\n",
      "normal round\n",
      "5-th round\n",
      "lr 0.1 | average train loss 0.502 | test loss 0.344 | test acc: 0.906\n",
      "failure round\n",
      "6-th round\n",
      "lr 0.1 | average train loss 0.43 | test loss 0.29 | test acc: 0.918\n",
      "failure round\n",
      "7-th round\n",
      "lr 0.1 | average train loss 0.384 | test loss 0.259 | test acc: 0.926\n",
      "normal round\n",
      "8-th round\n",
      "lr 0.1 | average train loss 0.313 | test loss 0.233 | test acc: 0.932\n",
      "normal round\n",
      "9-th round\n",
      "lr 0.1 | average train loss 0.308 | test loss 0.211 | test acc: 0.937\n",
      "[0.02187, 0.021535, 0.024203, 0.025883, 0.023342, 0.022624, 0.022058, 0.019908, 0.020563, 0.020398, 0.020147, 0.019526, 0.020509, 0.020388, 0.020456, 0.021863, 0.020271, 0.020159, 0.020821, 0.019827, 0.025155, 0.021947, 0.019896, 0.018481, 0.018592, 0.022001, 0.021984, 0.020612, 0.021439, 0.028629, 0.023825, 0.020538, 0.018063, 0.018008, 0.022299, 0.037304, 0.026399, 0.020996, 0.018167, 0.022505, 0.024049, 0.02397, 0.022371, 0.020128, 0.02214, 0.024963, 0.020667, 0.020108, 0.019839, 0.020339, 0.022711, 0.020456, 0.020322, 0.020449, 0.021225, 0.020475, 0.020354, 0.027072, 0.021857, 0.017948, 0.020716, 0.020839, 0.021209, 0.022745, 0.023213, 0.019377, 0.01719, 0.022984, 0.019956, 0.017199, 0.020478, 0.018509, 0.019558, 0.026639, 0.028297, 0.020573, 0.021369, 0.027057, 0.018954, 0.01871, 0.021024, 0.018673, 0.019086, 0.025862, 0.027255, 0.019473, 0.019074, 0.019407, 0.019314, 0.020302, 0.019923, 0.018068, 0.018608, 0.019724, 0.021152, 0.018878, 0.018252, 0.018275, 0.01923, 0.019292]\n"
     ]
    },
    {
     "data": {
      "image/png": "[encoded data removed]",
      "text/plain": [
       "<Figure size 432x288 with 1 Axes>"
      ]
     },
     "metadata": {
      "needs_background": "light",
      "tags": []
     },
     "output_type": "display_data"
    }
   ],
   "source": [
    "# IID case: all the clients have images of all the classes\n",
    "# Ring graph topology: each client is connected to two neighbours exactly\n",
    "\n",
    "# Hyperparameters\n",
    "\n",
    "num_clients = 100\n",
    "num_rounds = 10\n",
    "epochs = 1\n",
    "batch_size = 32\n",
    "num_failures = 10\n",
    "failure_rounds = np.random.choice(range(num_rounds), size=5, replace=False)\n",
    "\n",
    "# Communication matrix\n",
    "\n",
    "comm_matrix = create_mixing_matrix('grid', num_clients)\n",
    "\n",
    "# Creating decentralized datasets\n",
    "\n",
    "train_loader, test_loader = load_data(batch_size, num_clients)\n",
    "\n",
    "# Instantiate models and optimizers and run decentralized training\n",
    "\n",
    "global_model, client_models, accs1 = run_failures(train_loader, test_loader, comm_matrix, num_rounds,\n",
    "                                                             epochs, num_clients, failure_rounds, num_failures, 'global')\n",
    "\n",
    "cons = consensus(global_model, client_models)\n",
    "print(cons)\n",
    "\n",
    "axes = plt.gca()\n",
    "axes.set_ylim([0,1])\n",
    "plt.plot(range(num_rounds), accs1)\n",
    "plt.show()"
   ]
  },
  {
   "cell_type": "code",
   "execution_count": 34,
   "metadata": {
    "colab": {
     "base_uri": "https://localhost:8080/",
     "height": 827
    },
    "id": "79vwm51yVWP5",
    "outputId": "548e16cd-8839-4102-dc6e-e47d8900af8b"
   },
   "outputs": [
    {
     "name": "stdout",
     "output_type": "stream",
     "text": [
      "failure round\n",
      "0-th round\n",
      "lr 0.1 | average train loss 2.23 | test loss 2.22 | test acc: 0.546\n",
      "failure round\n",
      "1-th round\n",
      "lr 0.1 | average train loss 1.65 | test loss 1.29 | test acc: 0.726\n",
      "failure round\n",
      "2-th round\n",
      "lr 0.1 | average train loss 1.05 | test loss 0.725 | test acc: 0.811\n",
      "normal round\n",
      "3-th round\n",
      "lr 0.1 | average train loss 0.754 | test loss 0.498 | test acc: 0.869\n",
      "normal round\n",
      "4-th round\n",
      "lr 0.1 | average train loss 0.602 | test loss 0.399 | test acc: 0.892\n",
      "normal round\n",
      "5-th round\n",
      "lr 0.1 | average train loss 0.54 | test loss 0.323 | test acc: 0.913\n",
      "failure round\n",
      "6-th round\n",
      "lr 0.1 | average train loss 0.428 | test loss 0.287 | test acc: 0.920\n",
      "failure round\n",
      "7-th round\n",
      "lr 0.1 | average train loss 0.342 | test loss 0.25 | test acc: 0.929\n",
      "normal round\n",
      "8-th round\n",
      "lr 0.1 | average train loss 0.35 | test loss 0.23 | test acc: 0.934\n",
      "normal round\n",
      "9-th round\n",
      "lr 0.1 | average train loss 0.271 | test loss 0.211 | test acc: 0.938\n",
      "[0.052452, 0.03538, 0.028156, 0.024813, 0.027495, 0.055967, 0.040417, 0.026817, 0.028986, 0.040036, 0.040686, 0.035759, 0.026927, 0.026892, 0.029507, 0.034107, 0.032221, 0.024629, 0.027772, 0.039162, 0.029804, 0.029737, 0.024863, 0.023268, 0.025581, 0.031661, 0.037339, 0.032287, 0.029234, 0.038048, 0.029044, 0.032787, 0.025242, 0.022202, 0.02361, 0.02333, 0.023711, 0.02831, 0.025742, 0.026223, 0.025758, 0.023787, 0.021196, 0.021705, 0.020012, 0.020023, 0.022899, 0.027225, 0.02258, 0.022951, 0.029566, 0.033109, 0.027252, 0.027434, 0.02226, 0.022424, 0.025386, 0.028744, 0.024778, 0.024468, 0.027532, 0.024636, 0.024613, 0.028219, 0.023376, 0.027079, 0.026658, 0.024644, 0.024816, 0.026132, 0.028369, 0.026535, 0.027673, 0.028235, 0.02486, 0.024146, 0.021353, 0.023959, 0.022245, 0.021337, 0.068202, 0.032574, 0.025789, 0.022122, 0.022462, 0.022506, 0.024263, 0.023864, 0.023541, 0.032478, 0.064042, 0.031564, 0.02467, 0.02095, 0.022032, 0.030647, 0.032248, 0.026131, 0.025285, 0.035642]\n"
     ]
    },
    {
     "data": {
      "image/png": "[encoded data removed]",
      "text/plain": [
       "<Figure size 432x288 with 1 Axes>"
      ]
     },
     "metadata": {
      "needs_background": "light",
      "tags": []
     },
     "output_type": "display_data"
    }
   ],
   "source": [
    "# IID case: all the clients have images of all the classes\n",
    "# Ring graph topology: each client is connected to two neighbours exactly\n",
    "\n",
    "# Hyperparameters\n",
    "\n",
    "num_clients = 100\n",
    "num_rounds = 10\n",
    "epochs = 1\n",
    "batch_size = 32\n",
    "num_failures = 25\n",
    "failure_rounds = np.random.choice(range(num_rounds), size=5, replace=False)\n",
    "\n",
    "# Communication matrix\n",
    "\n",
    "comm_matrix = create_mixing_matrix('grid', num_clients)\n",
    "\n",
    "# Creating decentralized datasets\n",
    "\n",
    "train_loader, test_loader = load_data(batch_size, num_clients)\n",
    "\n",
    "# Instantiate models and optimizers and run decentralized training\n",
    "\n",
    "global_model, client_models, accs2 = run_failures(train_loader, test_loader, comm_matrix, num_rounds,\n",
    "                                                             epochs, num_clients, failure_rounds, num_failures, 'global')\n",
    "\n",
    "cons = consensus(global_model, client_models)\n",
    "print(cons)\n",
    "\n",
    "axes = plt.gca()\n",
    "axes.set_ylim([0,1])\n",
    "plt.plot(range(num_rounds), accs2)\n",
    "plt.show()"
   ]
  },
  {
   "cell_type": "code",
   "execution_count": 35,
   "metadata": {
    "colab": {
     "base_uri": "https://localhost:8080/",
     "height": 827
    },
    "id": "hUCNalKIVWP6",
    "outputId": "3dadec49-b85a-43cd-f7b8-3c1332552187"
   },
   "outputs": [
    {
     "name": "stdout",
     "output_type": "stream",
     "text": [
      "failure round\n",
      "0-th round\n",
      "lr 0.1 | average train loss 2.24 | test loss 2.23 | test acc: 0.350\n",
      "normal round\n",
      "1-th round\n",
      "lr 0.1 | average train loss 1.65 | test loss 1.31 | test acc: 0.746\n",
      "normal round\n",
      "2-th round\n",
      "lr 0.1 | average train loss 1.03 | test loss 0.727 | test acc: 0.802\n",
      "normal round\n",
      "3-th round\n",
      "lr 0.1 | average train loss 0.662 | test loss 0.489 | test acc: 0.868\n",
      "failure round\n",
      "4-th round\n",
      "lr 0.1 | average train loss 0.557 | test loss 0.392 | test acc: 0.893\n",
      "normal round\n",
      "5-th round\n",
      "lr 0.1 | average train loss 0.506 | test loss 0.324 | test acc: 0.911\n",
      "failure round\n",
      "6-th round\n",
      "lr 0.1 | average train loss 0.374 | test loss 0.278 | test acc: 0.921\n",
      "normal round\n",
      "7-th round\n",
      "lr 0.1 | average train loss 0.332 | test loss 0.249 | test acc: 0.929\n",
      "failure round\n",
      "8-th round\n",
      "lr 0.1 | average train loss 0.333 | test loss 0.226 | test acc: 0.935\n",
      "failure round\n",
      "9-th round\n",
      "lr 0.1 | average train loss 0.281 | test loss 0.208 | test acc: 0.938\n",
      "[0.02814, 0.025037, 0.025757, 0.033772, 0.060373, 0.042212, 0.04362, 0.032539, 0.031813, 0.027541, 0.025583, 0.021519, 0.022257, 0.028682, 0.041233, 0.030768, 0.028241, 0.029314, 0.033777, 0.026727, 0.026539, 0.023654, 0.024677, 0.03038, 0.030551, 0.029894, 0.031919, 0.033971, 0.028551, 0.023527, 0.037102, 0.040077, 0.0363, 0.103141, 0.035573, 0.032154, 0.036668, 0.060867, 0.042252, 0.027605, 0.051154, 0.559098, 0.052763, 0.063464, 0.037584, 0.026648, 0.027772, 0.035837, 0.029867, 0.035615, 0.036464, 0.0423, 0.141056, 0.107981, 0.089689, 0.034624, 0.034632, 0.043267, 0.032992, 0.03079, 0.030922, 0.029644, 0.037032, 0.06611, 0.048384, 0.027921, 0.023036, 0.035302, 0.035541, 0.028412, 0.039796, 0.029216, 0.026658, 0.032039, 0.030446, 0.027161, 0.027546, 0.038417, 0.048195, 0.030152, 0.043598, 0.030851, 0.025619, 0.027721, 0.028148, 0.032114, 0.031017, 0.029154, 0.033217, 0.028235, 0.029691, 0.024716, 0.024395, 0.034431, 0.044485, 0.040274, 0.030485, 0.028356, 0.053826, 0.032398]\n"
     ]
    },
    {
     "data": {
      "image/png": "[encoded data removed]",
      "text/plain": [
       "<Figure size 432x288 with 1 Axes>"
      ]
     },
     "metadata": {
      "needs_background": "light",
      "tags": []
     },
     "output_type": "display_data"
    }
   ],
   "source": [
    "# IID case: all the clients have images of all the classes\n",
    "# Ring graph topology: each client is connected to two neighbours exactly\n",
    "\n",
    "# Hyperparameters\n",
    "\n",
    "num_clients = 100\n",
    "num_rounds = 10\n",
    "epochs = 1\n",
    "batch_size = 32\n",
    "num_failures = 50\n",
    "failure_rounds = np.random.choice(range(num_rounds), size=5, replace=False)\n",
    "\n",
    "# Communication matrix\n",
    "\n",
    "comm_matrix = create_mixing_matrix('grid', num_clients)\n",
    "\n",
    "# Creating decentralized datasets\n",
    "\n",
    "train_loader, test_loader = load_data(batch_size, num_clients)\n",
    "\n",
    "# Instantiate models and optimizers and run decentralized training\n",
    "\n",
    "global_model, client_models, accs3 = run_failures(train_loader, test_loader, comm_matrix, num_rounds,\n",
    "                                                             epochs, num_clients, failure_rounds, num_failures, 'global')\n",
    "\n",
    "cons = consensus(global_model, client_models)\n",
    "print(cons)\n",
    "\n",
    "axes = plt.gca()\n",
    "axes.set_ylim([0,1])\n",
    "plt.plot(range(num_rounds), accs3)\n",
    "plt.show()"
   ]
  },
  {
   "cell_type": "code",
   "execution_count": 36,
   "metadata": {
    "colab": {
     "base_uri": "https://localhost:8080/",
     "height": 827
    },
    "id": "kH3Abo0BVWP6",
    "outputId": "0a829152-8694-44df-aa9e-5654bc225a1e"
   },
   "outputs": [
    {
     "name": "stdout",
     "output_type": "stream",
     "text": [
      "failure round\n",
      "0-th round\n",
      "lr 0.1 | average train loss 2.26 | test loss 2.25 | test acc: 0.359\n",
      "failure round\n",
      "1-th round\n",
      "lr 0.1 | average train loss 1.74 | test loss 1.5 | test acc: 0.726\n",
      "failure round\n",
      "2-th round\n",
      "lr 0.1 | average train loss 1.04 | test loss 0.745 | test acc: 0.814\n",
      "normal round\n",
      "3-th round\n",
      "lr 0.1 | average train loss 0.752 | test loss 0.515 | test acc: 0.866\n",
      "failure round\n",
      "4-th round\n",
      "lr 0.1 | average train loss 0.595 | test loss 0.408 | test acc: 0.891\n",
      "failure round\n",
      "5-th round\n",
      "lr 0.1 | average train loss 0.498 | test loss 0.341 | test acc: 0.908\n",
      "normal round\n",
      "6-th round\n",
      "lr 0.1 | average train loss 0.384 | test loss 0.297 | test acc: 0.916\n",
      "normal round\n",
      "7-th round\n",
      "lr 0.1 | average train loss 0.351 | test loss 0.267 | test acc: 0.923\n",
      "normal round\n",
      "8-th round\n",
      "lr 0.1 | average train loss 0.311 | test loss 0.243 | test acc: 0.928\n",
      "normal round\n",
      "9-th round\n",
      "lr 0.1 | average train loss 0.28 | test loss 0.224 | test acc: 0.932\n",
      "[0.067813, 0.06829, 0.056803, 0.101219, 0.076126, 0.047443, 0.062597, 0.094686, 0.069547, 0.072919, 0.058207, 0.077741, 0.047238, 0.109543, 0.445598, 0.045041, 0.087245, 0.085335, 0.085758, 0.455135, 0.053707, 0.048018, 0.04176, 0.068178, 0.080212, 0.04221, 0.0484, 0.053736, 0.082847, 0.083439, 0.137486, 0.095376, 0.051021, 0.060409, 0.091473, 0.036595, 0.043097, 0.04803, 0.117196, 0.106493, 0.096442, 0.469243, 0.068524, 0.078512, 0.061587, 0.037482, 0.03687, 0.084686, 0.069829, 0.065666, 0.05554, 0.488175, 0.465491, 0.091213, 0.109534, 0.062235, 0.046721, 0.048027, 0.042078, 0.041306, 0.042542, 0.053511, 0.117786, 0.479886, 0.130317, 0.083964, 0.09292, 0.056754, 0.046865, 0.043572, 0.040309, 0.050831, 0.07782, 0.26499, 0.272328, 0.098473, 0.731193, 0.101406, 0.058199, 0.044706, 0.05306, 0.07478, 0.090348, 0.43621, 0.344147, 0.06566, 0.064159, 0.065799, 0.086478, 0.063915, 0.448504, 0.097382, 0.078981, 0.120828, 0.353973, 0.050118, 0.060738, 0.058837, 0.055401, 0.058615]\n"
     ]
    },
    {
     "data": {
      "image/png": "[encoded data removed]",
      "text/plain": [
       "<Figure size 432x288 with 1 Axes>"
      ]
     },
     "metadata": {
      "needs_background": "light",
      "tags": []
     },
     "output_type": "display_data"
    }
   ],
   "source": [
    "# IID case: all the clients have images of all the classes\n",
    "# Ring graph topology: each client is connected to two neighbours exactly\n",
    "\n",
    "# Hyperparameters\n",
    "\n",
    "num_clients = 100\n",
    "num_rounds = 10\n",
    "epochs = 1\n",
    "batch_size = 32\n",
    "num_failures = 100\n",
    "failure_rounds = np.random.choice(range(num_rounds), size=5, replace=False)\n",
    "\n",
    "# Communication matrix\n",
    "\n",
    "comm_matrix = create_mixing_matrix('grid', num_clients)\n",
    "\n",
    "# Creating decentralized datasets\n",
    "\n",
    "train_loader, test_loader = load_data(batch_size, num_clients)\n",
    "\n",
    "# Instantiate models and optimizers and run decentralized training\n",
    "\n",
    "global_model, client_models, accs4 = run_failures(train_loader, test_loader, comm_matrix, num_rounds,\n",
    "                                                             epochs, num_clients, failure_rounds, num_failures, 'global')\n",
    "\n",
    "cons = consensus(global_model, client_models)\n",
    "print(cons)\n",
    "\n",
    "axes = plt.gca()\n",
    "axes.set_ylim([0,1])\n",
    "plt.plot(range(num_rounds), accs4)\n",
    "plt.show()"
   ]
  },
  {
   "cell_type": "code",
   "execution_count": 37,
   "metadata": {
    "colab": {
     "base_uri": "https://localhost:8080/",
     "height": 827
    },
    "id": "r2VNYgnIVWP6",
    "outputId": "4f690e58-1099-4e51-977a-b6695296835c"
   },
   "outputs": [
    {
     "name": "stdout",
     "output_type": "stream",
     "text": [
      "failure round\n",
      "0-th round\n",
      "lr 0.1 | average train loss 2.27 | test loss 2.27 | test acc: 0.261\n",
      "normal round\n",
      "1-th round\n",
      "lr 0.1 | average train loss 1.95 | test loss 1.87 | test acc: 0.660\n",
      "normal round\n",
      "2-th round\n",
      "lr 0.1 | average train loss 1.17 | test loss 0.868 | test acc: 0.807\n",
      "normal round\n",
      "3-th round\n",
      "lr 0.1 | average train loss 0.779 | test loss 0.6 | test acc: 0.842\n",
      "failure round\n",
      "4-th round\n",
      "lr 0.1 | average train loss 0.585 | test loss 0.463 | test acc: 0.876\n",
      "failure round\n",
      "5-th round\n",
      "lr 0.1 | average train loss 0.451 | test loss 0.392 | test acc: 0.893\n",
      "failure round\n",
      "6-th round\n",
      "lr 0.1 | average train loss 0.348 | test loss 0.333 | test acc: 0.910\n",
      "failure round\n",
      "7-th round\n",
      "lr 0.1 | average train loss 0.297 | test loss 0.307 | test acc: 0.913\n",
      "normal round\n",
      "8-th round\n",
      "lr 0.1 | average train loss 0.204 | test loss 0.285 | test acc: 0.919\n",
      "normal round\n",
      "9-th round\n",
      "lr 0.1 | average train loss 0.18 | test loss 0.274 | test acc: 0.922\n",
      "[0.498819, 0.472826, 0.486522, 0.427178, 0.520437, 0.466923, 0.438288, 0.420497, 0.490449, 0.525667, 0.451214, 0.475842, 0.554248, 0.472767, 0.449242, 0.42107, 0.445992, 0.447845, 0.443666, 0.432634, 0.429294, 0.438769, 0.461424, 0.480678, 0.395194, 0.476665, 0.409609, 0.467145, 0.455669, 0.44705, 0.456697, 0.467157, 0.417819, 0.485957, 0.590647, 0.389823, 0.531736, 0.409004, 0.458049, 0.490001, 0.462358, 0.466098, 0.454276, 0.4293, 0.56839, 0.550006, 0.479399, 0.468281, 0.441234, 0.456467, 0.475806, 0.428208, 0.509409, 0.47324, 0.540277, 0.48423, 0.480445, 0.439937, 0.466914, 0.450464, 0.446869, 0.432943, 0.45069, 0.47376, 0.571467, 0.509527, 0.436381, 0.435037, 0.430587, 0.405185, 0.43264, 0.44476, 0.478271, 0.51267, 0.433507, 0.465346, 0.420821, 0.517645, 0.498295, 0.402202, 0.44733, 0.444029, 0.417912, 0.561737, 0.450531, 0.449809, 0.451409, 0.394273, 0.405582, 0.42797, 0.497668, 0.423181, 0.491813, 0.455146, 0.48211, 0.78968, 0.459861, 0.51943, 0.40639, 0.501332]\n"
     ]
    },
    {
     "data": {
      "image/png": "[encoded data removed]",
      "text/plain": [
       "<Figure size 432x288 with 1 Axes>"
      ]
     },
     "metadata": {
      "needs_background": "light",
      "tags": []
     },
     "output_type": "display_data"
    }
   ],
   "source": [
    "# IID case: all the clients have images of all the classes\n",
    "# Ring graph topology: each client is connected to two neighbours exactly\n",
    "\n",
    "# Hyperparameters\n",
    "\n",
    "num_clients = 100\n",
    "num_rounds = 10\n",
    "epochs = 1\n",
    "batch_size = 32\n",
    "num_failures = 200\n",
    "failure_rounds = np.random.choice(range(num_rounds), size=5, replace=False)\n",
    "\n",
    "# Communication matrix\n",
    "\n",
    "comm_matrix = create_mixing_matrix('grid', num_clients)\n",
    "\n",
    "# Creating decentralized datasets\n",
    "\n",
    "train_loader, test_loader = load_data(batch_size, num_clients)\n",
    "\n",
    "# Instantiate models and optimizers and run decentralized training\n",
    "\n",
    "global_model, client_models, accs5 = run_failures(train_loader, test_loader, comm_matrix, num_rounds,\n",
    "                                                             epochs, num_clients, failure_rounds, num_failures, 'global')\n",
    "\n",
    "cons = consensus(global_model, client_models)\n",
    "print(cons)\n",
    "\n",
    "axes = plt.gca()\n",
    "axes.set_ylim([0,1])\n",
    "plt.plot(range(num_rounds), accs5)\n",
    "plt.show()"
   ]
  },
  {
   "cell_type": "code",
   "execution_count": 38,
   "metadata": {
    "colab": {
     "base_uri": "https://localhost:8080/",
     "height": 567
    },
    "id": "KZ8eRA_TVWP6",
    "outputId": "88e57b2a-37e5-4419-e8dd-b19144d362a1"
   },
   "outputs": [
    {
     "data": {
      "image/png": "[encoded data removed]",
      "text/plain": [
       "<Figure size 864x648 with 1 Axes>"
      ]
     },
     "metadata": {
      "needs_background": "light",
      "tags": []
     },
     "output_type": "display_data"
    }
   ],
   "source": [
    "fig, ax = plt.subplots(1, figsize=(12, 9))\n",
    "ax.set_ylim([0, 1])\n",
    "x = np.array(range(10))\n",
    "ax.plot(x, accs, color=\"blue\", label=\"no failure\")\n",
    "ax.plot(x, accs1, color=\"green\", label=\"10 failures\")\n",
    "ax.plot(x, accs2, color=\"purple\", label=\"25 failures\")\n",
    "ax.plot(x, accs3, color=\"yellow\", label=\"50 failures\")\n",
    "ax.plot(x, accs4, color=\"orange\", label=\"100 failures\")\n",
    "ax.plot(x, accs5, color=\"red\", label=\"200 failures\")\n",
    "\n",
    "# Add a legend, and position it on the lower right (with no box)\n",
    "plt.legend(loc=\"lower right\", title=\"Number of failures\")\n",
    "plt.title(\"Accuracy curve depending on number of failures under global correction\")\n",
    "plt.xlabel(\"Round\")\n",
    "plt.ylabel(\"Accuracy\")\n",
    "plt.show()"
   ]
  }
 ],
 "metadata": {
  "accelerator": "GPU",
  "colab": {
   "collapsed_sections": [
    "eLlexgBb96lA",
    "7sMN0Avh-PW1",
    "yA_UUqIO_Smm",
    "wOXhZxLm_kAI",
    "p3SC4TDFTUKD",
    "tG_8sQpn_26m",
    "WAITPrUrAK-R"
   ],
   "name": "simulator_failures.ipynb",
   "provenance": []
  },
  "kernelspec": {
   "display_name": "Python 3",
   "language": "python",
   "name": "python3"
  },
  "language_info": {
   "codemirror_mode": {
    "name": "ipython",
    "version": 3
   },
   "file_extension": ".py",
   "mimetype": "text/x-python",
   "name": "python",
   "nbconvert_exporter": "python",
   "pygments_lexer": "ipython3",
   "version": "3.7.6"
  },
  "widgets": {
   "application/vnd.jupyter.widget-state+json": {
    "0d042fbba9f74088be2b573eb225d029": {
     "model_module": "@jupyter-widgets/controls",
     "model_name": "FloatProgressModel",
     "state": {
      "_dom_classes": [],
      "_model_module": "@jupyter-widgets/controls",
      "_model_module_version": "1.5.0",
      "_model_name": "FloatProgressModel",
      "_view_count": null,
      "_view_module": "@jupyter-widgets/controls",
      "_view_module_version": "1.5.0",
      "_view_name": "ProgressView",
      "bar_style": "success",
      "description": "",
      "description_tooltip": null,
      "layout": "IPY_MODEL_a3ba77f83a394e89b1529adb72fb5028",
      "max": 1,
      "min": 0,
      "orientation": "horizontal",
      "style": "IPY_MODEL_b5cc68f5f3bb4b4a95c08fb453ef26f4",
      "value": 1
     }
    },
    "10db760ea12146e4b5f019b9fa0e63dd": {
     "model_module": "@jupyter-widgets/controls",
     "model_name": "HTMLModel",
     "state": {
      "_dom_classes": [],
      "_model_module": "@jupyter-widgets/controls",
      "_model_module_version": "1.5.0",
      "_model_name": "HTMLModel",
      "_view_count": null,
      "_view_module": "@jupyter-widgets/controls",
      "_view_module_version": "1.5.0",
      "_view_name": "HTMLView",
      "description": "",
      "description_tooltip": null,
      "layout": "IPY_MODEL_29747a91da3b44c781ae45af69cd1e13",
      "placeholder": "​",
      "style": "IPY_MODEL_e5ff26fc28a4452393cbfe752dda074c",
      "value": " 8192/? [00:00&lt;00:00, 79270.73it/s]"
     }
    },
    "29747a91da3b44c781ae45af69cd1e13": {
     "model_module": "@jupyter-widgets/base",
     "model_name": "LayoutModel",
     "state": {
      "_model_module": "@jupyter-widgets/base",
      "_model_module_version": "1.2.0",
      "_model_name": "LayoutModel",
      "_view_count": null,
      "_view_module": "@jupyter-widgets/base",
      "_view_module_version": "1.2.0",
      "_view_name": "LayoutView",
      "align_content": null,
      "align_items": null,
      "align_self": null,
      "border": null,
      "bottom": null,
      "display": null,
      "flex": null,
      "flex_flow": null,
      "grid_area": null,
      "grid_auto_columns": null,
      "grid_auto_flow": null,
      "grid_auto_rows": null,
      "grid_column": null,
      "grid_gap": null,
      "grid_row": null,
      "grid_template_areas": null,
      "grid_template_columns": null,
      "grid_template_rows": null,
      "height": null,
      "justify_content": null,
      "justify_items": null,
      "left": null,
      "margin": null,
      "max_height": null,
      "max_width": null,
      "min_height": null,
      "min_width": null,
      "object_fit": null,
      "object_position": null,
      "order": null,
      "overflow": null,
      "overflow_x": null,
      "overflow_y": null,
      "padding": null,
      "right": null,
      "top": null,
      "visibility": null,
      "width": null
     }
    },
    "2aeba731b168414d930d23fb6d34579f": {
     "model_module": "@jupyter-widgets/base",
     "model_name": "LayoutModel",
     "state": {
      "_model_module": "@jupyter-widgets/base",
      "_model_module_version": "1.2.0",
      "_model_name": "LayoutModel",
      "_view_count": null,
      "_view_module": "@jupyter-widgets/base",
      "_view_module_version": "1.2.0",
      "_view_name": "LayoutView",
      "align_content": null,
      "align_items": null,
      "align_self": null,
      "border": null,
      "bottom": null,
      "display": null,
      "flex": null,
      "flex_flow": null,
      "grid_area": null,
      "grid_auto_columns": null,
      "grid_auto_flow": null,
      "grid_auto_rows": null,
      "grid_column": null,
      "grid_gap": null,
      "grid_row": null,
      "grid_template_areas": null,
      "grid_template_columns": null,
      "grid_template_rows": null,
      "height": null,
      "justify_content": null,
      "justify_items": null,
      "left": null,
      "margin": null,
      "max_height": null,
      "max_width": null,
      "min_height": null,
      "min_width": null,
      "object_fit": null,
      "object_position": null,
      "order": null,
      "overflow": null,
      "overflow_x": null,
      "overflow_y": null,
      "padding": null,
      "right": null,
      "top": null,
      "visibility": null,
      "width": null
     }
    },
    "315f9ee34d7e4dd18850e6ef22832998": {
     "model_module": "@jupyter-widgets/controls",
     "model_name": "FloatProgressModel",
     "state": {
      "_dom_classes": [],
      "_model_module": "@jupyter-widgets/controls",
      "_model_module_version": "1.5.0",
      "_model_name": "FloatProgressModel",
      "_view_count": null,
      "_view_module": "@jupyter-widgets/controls",
      "_view_module_version": "1.5.0",
      "_view_name": "ProgressView",
      "bar_style": "info",
      "description": "",
      "description_tooltip": null,
      "layout": "IPY_MODEL_4aba29a9bd8c4adabb987aa2b6459493",
      "max": 1,
      "min": 0,
      "orientation": "horizontal",
      "style": "IPY_MODEL_a1dda719ba1d4aefaded46fe77b8b5c5",
      "value": 1
     }
    },
    "3552c42c84e24e0f920eb1051aaf3d77": {
     "model_module": "@jupyter-widgets/base",
     "model_name": "LayoutModel",
     "state": {
      "_model_module": "@jupyter-widgets/base",
      "_model_module_version": "1.2.0",
      "_model_name": "LayoutModel",
      "_view_count": null,
      "_view_module": "@jupyter-widgets/base",
      "_view_module_version": "1.2.0",
      "_view_name": "LayoutView",
      "align_content": null,
      "align_items": null,
      "align_self": null,
      "border": null,
      "bottom": null,
      "display": null,
      "flex": null,
      "flex_flow": null,
      "grid_area": null,
      "grid_auto_columns": null,
      "grid_auto_flow": null,
      "grid_auto_rows": null,
      "grid_column": null,
      "grid_gap": null,
      "grid_row": null,
      "grid_template_areas": null,
      "grid_template_columns": null,
      "grid_template_rows": null,
      "height": null,
      "justify_content": null,
      "justify_items": null,
      "left": null,
      "margin": null,
      "max_height": null,
      "max_width": null,
      "min_height": null,
      "min_width": null,
      "object_fit": null,
      "object_position": null,
      "order": null,
      "overflow": null,
      "overflow_x": null,
      "overflow_y": null,
      "padding": null,
      "right": null,
      "top": null,
      "visibility": null,
      "width": null
     }
    },
    "397ad3ca8c3e4be5bfcf7e686526b908": {
     "model_module": "@jupyter-widgets/base",
     "model_name": "LayoutModel",
     "state": {
      "_model_module": "@jupyter-widgets/base",
      "_model_module_version": "1.2.0",
      "_model_name": "LayoutModel",
      "_view_count": null,
      "_view_module": "@jupyter-widgets/base",
      "_view_module_version": "1.2.0",
      "_view_name": "LayoutView",
      "align_content": null,
      "align_items": null,
      "align_self": null,
      "border": null,
      "bottom": null,
      "display": null,
      "flex": null,
      "flex_flow": null,
      "grid_area": null,
      "grid_auto_columns": null,
      "grid_auto_flow": null,
      "grid_auto_rows": null,
      "grid_column": null,
      "grid_gap": null,
      "grid_row": null,
      "grid_template_areas": null,
      "grid_template_columns": null,
      "grid_template_rows": null,
      "height": null,
      "justify_content": null,
      "justify_items": null,
      "left": null,
      "margin": null,
      "max_height": null,
      "max_width": null,
      "min_height": null,
      "min_width": null,
      "object_fit": null,
      "object_position": null,
      "order": null,
      "overflow": null,
      "overflow_x": null,
      "overflow_y": null,
      "padding": null,
      "right": null,
      "top": null,
      "visibility": null,
      "width": null
     }
    },
    "4aba29a9bd8c4adabb987aa2b6459493": {
     "model_module": "@jupyter-widgets/base",
     "model_name": "LayoutModel",
     "state": {
      "_model_module": "@jupyter-widgets/base",
      "_model_module_version": "1.2.0",
      "_model_name": "LayoutModel",
      "_view_count": null,
      "_view_module": "@jupyter-widgets/base",
      "_view_module_version": "1.2.0",
      "_view_name": "LayoutView",
      "align_content": null,
      "align_items": null,
      "align_self": null,
      "border": null,
      "bottom": null,
      "display": null,
      "flex": null,
      "flex_flow": null,
      "grid_area": null,
      "grid_auto_columns": null,
      "grid_auto_flow": null,
      "grid_auto_rows": null,
      "grid_column": null,
      "grid_gap": null,
      "grid_row": null,
      "grid_template_areas": null,
      "grid_template_columns": null,
      "grid_template_rows": null,
      "height": null,
      "justify_content": null,
      "justify_items": null,
      "left": null,
      "margin": null,
      "max_height": null,
      "max_width": null,
      "min_height": null,
      "min_width": null,
      "object_fit": null,
      "object_position": null,
      "order": null,
      "overflow": null,
      "overflow_x": null,
      "overflow_y": null,
      "padding": null,
      "right": null,
      "top": null,
      "visibility": null,
      "width": null
     }
    },
    "52a8d4d1a43546598852295bb3892440": {
     "model_module": "@jupyter-widgets/controls",
     "model_name": "HBoxModel",
     "state": {
      "_dom_classes": [],
      "_model_module": "@jupyter-widgets/controls",
      "_model_module_version": "1.5.0",
      "_model_name": "HBoxModel",
      "_view_count": null,
      "_view_module": "@jupyter-widgets/controls",
      "_view_module_version": "1.5.0",
      "_view_name": "HBoxView",
      "box_style": "",
      "children": [
       "IPY_MODEL_77c5425642874ab0a32748c4ca73f83a",
       "IPY_MODEL_10db760ea12146e4b5f019b9fa0e63dd"
      ],
      "layout": "IPY_MODEL_2aeba731b168414d930d23fb6d34579f"
     }
    },
    "5abe539f942b4d28a00874d62a8d9cc7": {
     "model_module": "@jupyter-widgets/controls",
     "model_name": "HTMLModel",
     "state": {
      "_dom_classes": [],
      "_model_module": "@jupyter-widgets/controls",
      "_model_module_version": "1.5.0",
      "_model_name": "HTMLModel",
      "_view_count": null,
      "_view_module": "@jupyter-widgets/controls",
      "_view_module_version": "1.5.0",
      "_view_name": "HTMLView",
      "description": "",
      "description_tooltip": null,
      "layout": "IPY_MODEL_dc03e917a3fd49e69032a1b06db0f94b",
      "placeholder": "​",
      "style": "IPY_MODEL_a0eeb8d0dac24f2c86764d4825c9e67c",
      "value": " 32768/? [00:00&lt;00:00, 81407.00it/s]"
     }
    },
    "5e691c171fc8401993a1adffc3a975d4": {
     "model_module": "@jupyter-widgets/controls",
     "model_name": "ProgressStyleModel",
     "state": {
      "_model_module": "@jupyter-widgets/controls",
      "_model_module_version": "1.5.0",
      "_model_name": "ProgressStyleModel",
      "_view_count": null,
      "_view_module": "@jupyter-widgets/base",
      "_view_module_version": "1.2.0",
      "_view_name": "StyleView",
      "bar_color": null,
      "description_width": "initial"
     }
    },
    "687648f3135343d0a4405c3c2bf356f7": {
     "model_module": "@jupyter-widgets/controls",
     "model_name": "HBoxModel",
     "state": {
      "_dom_classes": [],
      "_model_module": "@jupyter-widgets/controls",
      "_model_module_version": "1.5.0",
      "_model_name": "HBoxModel",
      "_view_count": null,
      "_view_module": "@jupyter-widgets/controls",
      "_view_module_version": "1.5.0",
      "_view_name": "HBoxView",
      "box_style": "",
      "children": [
       "IPY_MODEL_0d042fbba9f74088be2b573eb225d029",
       "IPY_MODEL_5abe539f942b4d28a00874d62a8d9cc7"
      ],
      "layout": "IPY_MODEL_b1b3584e222645af9b0993d036a58ca9"
     }
    },
    "77c5425642874ab0a32748c4ca73f83a": {
     "model_module": "@jupyter-widgets/controls",
     "model_name": "FloatProgressModel",
     "state": {
      "_dom_classes": [],
      "_model_module": "@jupyter-widgets/controls",
      "_model_module_version": "1.5.0",
      "_model_name": "FloatProgressModel",
      "_view_count": null,
      "_view_module": "@jupyter-widgets/controls",
      "_view_module_version": "1.5.0",
      "_view_name": "ProgressView",
      "bar_style": "success",
      "description": "",
      "description_tooltip": null,
      "layout": "IPY_MODEL_3552c42c84e24e0f920eb1051aaf3d77",
      "max": 1,
      "min": 0,
      "orientation": "horizontal",
      "style": "IPY_MODEL_5e691c171fc8401993a1adffc3a975d4",
      "value": 1
     }
    },
    "8123ff8766db4b8fa372bd4346c7bc03": {
     "model_module": "@jupyter-widgets/controls",
     "model_name": "HTMLModel",
     "state": {
      "_dom_classes": [],
      "_model_module": "@jupyter-widgets/controls",
      "_model_module_version": "1.5.0",
      "_model_name": "HTMLModel",
      "_view_count": null,
      "_view_module": "@jupyter-widgets/controls",
      "_view_module_version": "1.5.0",
      "_view_name": "HTMLView",
      "description": "",
      "description_tooltip": null,
      "layout": "IPY_MODEL_cba384b80fa6490394308bbbaf8a5e14",
      "placeholder": "​",
      "style": "IPY_MODEL_98a149e6051c457fa324058e16e7c627",
      "value": " 1654784/? [00:00&lt;00:00, 5140541.90it/s]"
     }
    },
    "98a149e6051c457fa324058e16e7c627": {
     "model_module": "@jupyter-widgets/controls",
     "model_name": "DescriptionStyleModel",
     "state": {
      "_model_module": "@jupyter-widgets/controls",
      "_model_module_version": "1.5.0",
      "_model_name": "DescriptionStyleModel",
      "_view_count": null,
      "_view_module": "@jupyter-widgets/base",
      "_view_module_version": "1.2.0",
      "_view_name": "StyleView",
      "description_width": ""
     }
    },
    "a0eeb8d0dac24f2c86764d4825c9e67c": {
     "model_module": "@jupyter-widgets/controls",
     "model_name": "DescriptionStyleModel",
     "state": {
      "_model_module": "@jupyter-widgets/controls",
      "_model_module_version": "1.5.0",
      "_model_name": "DescriptionStyleModel",
      "_view_count": null,
      "_view_module": "@jupyter-widgets/base",
      "_view_module_version": "1.2.0",
      "_view_name": "StyleView",
      "description_width": ""
     }
    },
    "a1dda719ba1d4aefaded46fe77b8b5c5": {
     "model_module": "@jupyter-widgets/controls",
     "model_name": "ProgressStyleModel",
     "state": {
      "_model_module": "@jupyter-widgets/controls",
      "_model_module_version": "1.5.0",
      "_model_name": "ProgressStyleModel",
      "_view_count": null,
      "_view_module": "@jupyter-widgets/base",
      "_view_module_version": "1.2.0",
      "_view_name": "StyleView",
      "bar_color": null,
      "description_width": "initial"
     }
    },
    "a3ba77f83a394e89b1529adb72fb5028": {
     "model_module": "@jupyter-widgets/base",
     "model_name": "LayoutModel",
     "state": {
      "_model_module": "@jupyter-widgets/base",
      "_model_module_version": "1.2.0",
      "_model_name": "LayoutModel",
      "_view_count": null,
      "_view_module": "@jupyter-widgets/base",
      "_view_module_version": "1.2.0",
      "_view_name": "LayoutView",
      "align_content": null,
      "align_items": null,
      "align_self": null,
      "border": null,
      "bottom": null,
      "display": null,
      "flex": null,
      "flex_flow": null,
      "grid_area": null,
      "grid_auto_columns": null,
      "grid_auto_flow": null,
      "grid_auto_rows": null,
      "grid_column": null,
      "grid_gap": null,
      "grid_row": null,
      "grid_template_areas": null,
      "grid_template_columns": null,
      "grid_template_rows": null,
      "height": null,
      "justify_content": null,
      "justify_items": null,
      "left": null,
      "margin": null,
      "max_height": null,
      "max_width": null,
      "min_height": null,
      "min_width": null,
      "object_fit": null,
      "object_position": null,
      "order": null,
      "overflow": null,
      "overflow_x": null,
      "overflow_y": null,
      "padding": null,
      "right": null,
      "top": null,
      "visibility": null,
      "width": null
     }
    },
    "b1b3584e222645af9b0993d036a58ca9": {
     "model_module": "@jupyter-widgets/base",
     "model_name": "LayoutModel",
     "state": {
      "_model_module": "@jupyter-widgets/base",
      "_model_module_version": "1.2.0",
      "_model_name": "LayoutModel",
      "_view_count": null,
      "_view_module": "@jupyter-widgets/base",
      "_view_module_version": "1.2.0",
      "_view_name": "LayoutView",
      "align_content": null,
      "align_items": null,
      "align_self": null,
      "border": null,
      "bottom": null,
      "display": null,
      "flex": null,
      "flex_flow": null,
      "grid_area": null,
      "grid_auto_columns": null,
      "grid_auto_flow": null,
      "grid_auto_rows": null,
      "grid_column": null,
      "grid_gap": null,
      "grid_row": null,
      "grid_template_areas": null,
      "grid_template_columns": null,
      "grid_template_rows": null,
      "height": null,
      "justify_content": null,
      "justify_items": null,
      "left": null,
      "margin": null,
      "max_height": null,
      "max_width": null,
      "min_height": null,
      "min_width": null,
      "object_fit": null,
      "object_position": null,
      "order": null,
      "overflow": null,
      "overflow_x": null,
      "overflow_y": null,
      "padding": null,
      "right": null,
      "top": null,
      "visibility": null,
      "width": null
     }
    },
    "b5cc68f5f3bb4b4a95c08fb453ef26f4": {
     "model_module": "@jupyter-widgets/controls",
     "model_name": "ProgressStyleModel",
     "state": {
      "_model_module": "@jupyter-widgets/controls",
      "_model_module_version": "1.5.0",
      "_model_name": "ProgressStyleModel",
      "_view_count": null,
      "_view_module": "@jupyter-widgets/base",
      "_view_module_version": "1.2.0",
      "_view_name": "StyleView",
      "bar_color": null,
      "description_width": "initial"
     }
    },
    "bcf82088cfc04bbf90deec17b46c2932": {
     "model_module": "@jupyter-widgets/controls",
     "model_name": "HBoxModel",
     "state": {
      "_dom_classes": [],
      "_model_module": "@jupyter-widgets/controls",
      "_model_module_version": "1.5.0",
      "_model_name": "HBoxModel",
      "_view_count": null,
      "_view_module": "@jupyter-widgets/controls",
      "_view_module_version": "1.5.0",
      "_view_name": "HBoxView",
      "box_style": "",
      "children": [
       "IPY_MODEL_c5d2457c6b894fd69af4b5da213e8fa8",
       "IPY_MODEL_8123ff8766db4b8fa372bd4346c7bc03"
      ],
      "layout": "IPY_MODEL_dfd4a14d5026464898f2f001dcd21c12"
     }
    },
    "c3a6ae694e434eb9a7056a6e4190c235": {
     "model_module": "@jupyter-widgets/controls",
     "model_name": "HBoxModel",
     "state": {
      "_dom_classes": [],
      "_model_module": "@jupyter-widgets/controls",
      "_model_module_version": "1.5.0",
      "_model_name": "HBoxModel",
      "_view_count": null,
      "_view_module": "@jupyter-widgets/controls",
      "_view_module_version": "1.5.0",
      "_view_name": "HBoxView",
      "box_style": "",
      "children": [
       "IPY_MODEL_315f9ee34d7e4dd18850e6ef22832998",
       "IPY_MODEL_eb706f17a64b41dea87eed47f0369cb7"
      ],
      "layout": "IPY_MODEL_397ad3ca8c3e4be5bfcf7e686526b908"
     }
    },
    "c5d2457c6b894fd69af4b5da213e8fa8": {
     "model_module": "@jupyter-widgets/controls",
     "model_name": "FloatProgressModel",
     "state": {
      "_dom_classes": [],
      "_model_module": "@jupyter-widgets/controls",
      "_model_module_version": "1.5.0",
      "_model_name": "FloatProgressModel",
      "_view_count": null,
      "_view_module": "@jupyter-widgets/controls",
      "_view_module_version": "1.5.0",
      "_view_name": "ProgressView",
      "bar_style": "success",
      "description": "",
      "description_tooltip": null,
      "layout": "IPY_MODEL_ce0c1850d4654fd198e3d115899a41c6",
      "max": 1,
      "min": 0,
      "orientation": "horizontal",
      "style": "IPY_MODEL_e48dc44fb6034d1e8e9f3f928c111925",
      "value": 1
     }
    },
    "cba384b80fa6490394308bbbaf8a5e14": {
     "model_module": "@jupyter-widgets/base",
     "model_name": "LayoutModel",
     "state": {
      "_model_module": "@jupyter-widgets/base",
      "_model_module_version": "1.2.0",
      "_model_name": "LayoutModel",
      "_view_count": null,
      "_view_module": "@jupyter-widgets/base",
      "_view_module_version": "1.2.0",
      "_view_name": "LayoutView",
      "align_content": null,
      "align_items": null,
      "align_self": null,
      "border": null,
      "bottom": null,
      "display": null,
      "flex": null,
      "flex_flow": null,
      "grid_area": null,
      "grid_auto_columns": null,
      "grid_auto_flow": null,
      "grid_auto_rows": null,
      "grid_column": null,
      "grid_gap": null,
      "grid_row": null,
      "grid_template_areas": null,
      "grid_template_columns": null,
      "grid_template_rows": null,
      "height": null,
      "justify_content": null,
      "justify_items": null,
      "left": null,
      "margin": null,
      "max_height": null,
      "max_width": null,
      "min_height": null,
      "min_width": null,
      "object_fit": null,
      "object_position": null,
      "order": null,
      "overflow": null,
      "overflow_x": null,
      "overflow_y": null,
      "padding": null,
      "right": null,
      "top": null,
      "visibility": null,
      "width": null
     }
    },
    "ce0c1850d4654fd198e3d115899a41c6": {
     "model_module": "@jupyter-widgets/base",
     "model_name": "LayoutModel",
     "state": {
      "_model_module": "@jupyter-widgets/base",
      "_model_module_version": "1.2.0",
      "_model_name": "LayoutModel",
      "_view_count": null,
      "_view_module": "@jupyter-widgets/base",
      "_view_module_version": "1.2.0",
      "_view_name": "LayoutView",
      "align_content": null,
      "align_items": null,
      "align_self": null,
      "border": null,
      "bottom": null,
      "display": null,
      "flex": null,
      "flex_flow": null,
      "grid_area": null,
      "grid_auto_columns": null,
      "grid_auto_flow": null,
      "grid_auto_rows": null,
      "grid_column": null,
      "grid_gap": null,
      "grid_row": null,
      "grid_template_areas": null,
      "grid_template_columns": null,
      "grid_template_rows": null,
      "height": null,
      "justify_content": null,
      "justify_items": null,
      "left": null,
      "margin": null,
      "max_height": null,
      "max_width": null,
      "min_height": null,
      "min_width": null,
      "object_fit": null,
      "object_position": null,
      "order": null,
      "overflow": null,
      "overflow_x": null,
      "overflow_y": null,
      "padding": null,
      "right": null,
      "top": null,
      "visibility": null,
      "width": null
     }
    },
    "dc03e917a3fd49e69032a1b06db0f94b": {
     "model_module": "@jupyter-widgets/base",
     "model_name": "LayoutModel",
     "state": {
      "_model_module": "@jupyter-widgets/base",
      "_model_module_version": "1.2.0",
      "_model_name": "LayoutModel",
      "_view_count": null,
      "_view_module": "@jupyter-widgets/base",
      "_view_module_version": "1.2.0",
      "_view_name": "LayoutView",
      "align_content": null,
      "align_items": null,
      "align_self": null,
      "border": null,
      "bottom": null,
      "display": null,
      "flex": null,
      "flex_flow": null,
      "grid_area": null,
      "grid_auto_columns": null,
      "grid_auto_flow": null,
      "grid_auto_rows": null,
      "grid_column": null,
      "grid_gap": null,
      "grid_row": null,
      "grid_template_areas": null,
      "grid_template_columns": null,
      "grid_template_rows": null,
      "height": null,
      "justify_content": null,
      "justify_items": null,
      "left": null,
      "margin": null,
      "max_height": null,
      "max_width": null,
      "min_height": null,
      "min_width": null,
      "object_fit": null,
      "object_position": null,
      "order": null,
      "overflow": null,
      "overflow_x": null,
      "overflow_y": null,
      "padding": null,
      "right": null,
      "top": null,
      "visibility": null,
      "width": null
     }
    },
    "dfd4a14d5026464898f2f001dcd21c12": {
     "model_module": "@jupyter-widgets/base",
     "model_name": "LayoutModel",
     "state": {
      "_model_module": "@jupyter-widgets/base",
      "_model_module_version": "1.2.0",
      "_model_name": "LayoutModel",
      "_view_count": null,
      "_view_module": "@jupyter-widgets/base",
      "_view_module_version": "1.2.0",
      "_view_name": "LayoutView",
      "align_content": null,
      "align_items": null,
      "align_self": null,
      "border": null,
      "bottom": null,
      "display": null,
      "flex": null,
      "flex_flow": null,
      "grid_area": null,
      "grid_auto_columns": null,
      "grid_auto_flow": null,
      "grid_auto_rows": null,
      "grid_column": null,
      "grid_gap": null,
      "grid_row": null,
      "grid_template_areas": null,
      "grid_template_columns": null,
      "grid_template_rows": null,
      "height": null,
      "justify_content": null,
      "justify_items": null,
      "left": null,
      "margin": null,
      "max_height": null,
      "max_width": null,
      "min_height": null,
      "min_width": null,
      "object_fit": null,
      "object_position": null,
      "order": null,
      "overflow": null,
      "overflow_x": null,
      "overflow_y": null,
      "padding": null,
      "right": null,
      "top": null,
      "visibility": null,
      "width": null
     }
    },
    "e48dc44fb6034d1e8e9f3f928c111925": {
     "model_module": "@jupyter-widgets/controls",
     "model_name": "ProgressStyleModel",
     "state": {
      "_model_module": "@jupyter-widgets/controls",
      "_model_module_version": "1.5.0",
      "_model_name": "ProgressStyleModel",
      "_view_count": null,
      "_view_module": "@jupyter-widgets/base",
      "_view_module_version": "1.2.0",
      "_view_name": "StyleView",
      "bar_color": null,
      "description_width": "initial"
     }
    },
    "e5ff26fc28a4452393cbfe752dda074c": {
     "model_module": "@jupyter-widgets/controls",
     "model_name": "DescriptionStyleModel",
     "state": {
      "_model_module": "@jupyter-widgets/controls",
      "_model_module_version": "1.5.0",
      "_model_name": "DescriptionStyleModel",
      "_view_count": null,
      "_view_module": "@jupyter-widgets/base",
      "_view_module_version": "1.2.0",
      "_view_name": "StyleView",
      "description_width": ""
     }
    },
    "eb706f17a64b41dea87eed47f0369cb7": {
     "model_module": "@jupyter-widgets/controls",
     "model_name": "HTMLModel",
     "state": {
      "_dom_classes": [],
      "_model_module": "@jupyter-widgets/controls",
      "_model_module_version": "1.5.0",
      "_model_name": "HTMLModel",
      "_view_count": null,
      "_view_module": "@jupyter-widgets/controls",
      "_view_module_version": "1.5.0",
      "_view_name": "HTMLView",
      "description": "",
      "description_tooltip": null,
      "layout": "IPY_MODEL_f9d5d1579c42410f8df5e5fc92a11cfd",
      "placeholder": "​",
      "style": "IPY_MODEL_f4dace55b6944fd5b7968c47a9cbec41",
      "value": " 9920512/? [00:20&lt;00:00, 35633364.94it/s]"
     }
    },
    "f4dace55b6944fd5b7968c47a9cbec41": {
     "model_module": "@jupyter-widgets/controls",
     "model_name": "DescriptionStyleModel",
     "state": {
      "_model_module": "@jupyter-widgets/controls",
      "_model_module_version": "1.5.0",
      "_model_name": "DescriptionStyleModel",
      "_view_count": null,
      "_view_module": "@jupyter-widgets/base",
      "_view_module_version": "1.2.0",
      "_view_name": "StyleView",
      "description_width": ""
     }
    },
    "f9d5d1579c42410f8df5e5fc92a11cfd": {
     "model_module": "@jupyter-widgets/base",
     "model_name": "LayoutModel",
     "state": {
      "_model_module": "@jupyter-widgets/base",
      "_model_module_version": "1.2.0",
      "_model_name": "LayoutModel",
      "_view_count": null,
      "_view_module": "@jupyter-widgets/base",
      "_view_module_version": "1.2.0",
      "_view_name": "LayoutView",
      "align_content": null,
      "align_items": null,
      "align_self": null,
      "border": null,
      "bottom": null,
      "display": null,
      "flex": null,
      "flex_flow": null,
      "grid_area": null,
      "grid_auto_columns": null,
      "grid_auto_flow": null,
      "grid_auto_rows": null,
      "grid_column": null,
      "grid_gap": null,
      "grid_row": null,
      "grid_template_areas": null,
      "grid_template_columns": null,
      "grid_template_rows": null,
      "height": null,
      "justify_content": null,
      "justify_items": null,
      "left": null,
      "margin": null,
      "max_height": null,
      "max_width": null,
      "min_height": null,
      "min_width": null,
      "object_fit": null,
      "object_position": null,
      "order": null,
      "overflow": null,
      "overflow_x": null,
      "overflow_y": null,
      "padding": null,
      "right": null,
      "top": null,
      "visibility": null,
      "width": null
     }
    }
   }
  }
 },
 "nbformat": 4,
 "nbformat_minor": 1
}
